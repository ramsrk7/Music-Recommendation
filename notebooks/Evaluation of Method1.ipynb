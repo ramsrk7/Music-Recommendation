{
 "cells": [
  {
   "cell_type": "code",
   "execution_count": 490,
   "id": "15cb1cdb",
   "metadata": {},
   "outputs": [],
   "source": [
    "import pandas as pd\n",
    "import sqlite3\n",
    "import numpy as np\n",
    "from sklearn.metrics import pairwise_distances"
   ]
  },
  {
   "cell_type": "code",
   "execution_count": 524,
   "id": "c7b99d83",
   "metadata": {},
   "outputs": [],
   "source": [
    "import numpy as np\n",
    "import scipy.sparse\n",
    "import pandas as pd\n",
    "from wordcloud import WordCloud, STOPWORDS\n",
    "import matplotlib.pyplot as plt\n",
    "from sklearn.neighbors import KDTree\n",
    "import sqlite3\n",
    "from sklearn.metrics import pairwise_distances\n",
    "\n",
    "\n",
    "class Method1:\n",
    "    \n",
    "    def __init__(self, Lyrics=\"TrackData.csv\", Track_Song_Mappings = \"Song-Track.csv\", Words=\"Words.txt\", Database = \"track_metadata.db\", Encodings=\"Encodings_numpy.pickle.npy\"):\n",
    "        \n",
    "        print(\"Loading TrackIDs, SongIDs, and Lyrics..\")\n",
    "        self.track_lyrics_df = pd.read_csv(Lyrics)\n",
    "        self.song_track_df = pd.read_csv(Track_Song_Mappings)\n",
    "        self.song_track_df = self.song_track_df.rename(columns={'TrackID':'ID'})\n",
    "        self.track_lyrics_df = self.track_lyrics_df.merge(self.song_track_df)\n",
    "        self.song_track_df = []\n",
    "        \n",
    "        \n",
    "        \n",
    "\n",
    "        print(\"Loading Words..\")\n",
    "        self.words = {}\n",
    "        f = open(Words)\n",
    "        for line in f:\n",
    "            words = line.split(\",\")\n",
    "            for i, word in enumerate(words):\n",
    "                self.words[i+1] = word\n",
    "        \n",
    "        print(\"Loading Track Database..\")\n",
    "        self.db_conn = sqlite3.connect('track_metadata.db')\n",
    "        \n",
    "        print(\"Loading KDD Tree for Lyrics Similarity..\")\n",
    "        self.enc = np.load(Encodings, allow_pickle=True)\n",
    "        self.tree = KDTree(self.enc, leaf_size=40) \n",
    "        \n",
    "        self.similarSongs = []\n",
    "        self.temp = pd.DataFrame()\n",
    "        \n",
    "        print(\"Loaded!\")\n",
    "        \n",
    "        \n",
    "        \n",
    "    def getLyrics(self, embeddings, words, with_count = False):\n",
    "        sentence = \"\"\n",
    "  \n",
    "        embeddings = embeddings.replace(\"[\",\"\")\n",
    "        embeddings = embeddings.replace(\"]\",\"\")\n",
    "        embeddings = embeddings.replace(\"'\",\"\")\n",
    "        embeddings = embeddings.replace(\" \",\"\")\n",
    "        embeddings = embeddings.split(\",\")\n",
    "\n",
    "        for emb in embeddings:\n",
    "            ids = emb.split(\":\")\n",
    "            sentence += words[int(ids[0])] + \" \"\n",
    "\n",
    "        return sentence\n",
    "    \n",
    "    def ShowSongs(self, ret = False, feature = 'Title'):\n",
    "        songs = self.track_lyrics_df[feature].unique()\n",
    "        if ret == False:\n",
    "            print(songs)\n",
    "        else:\n",
    "            return songs\n",
    "        \n",
    "    def getLyricsSimilarity(self, song, typ = 'Title', k=5):\n",
    "\n",
    "            index = self.track_lyrics_df[self.track_lyrics_df[typ] == song].index[0]\n",
    "    \n",
    "            dist, ind = self.tree.query(self.enc[index:index+1], k=int(k)+1)\n",
    "            self.similarSongs = ind[0]\n",
    "\n",
    "            self.temp = self.track_lyrics_df[self.track_lyrics_df.index.isin(self.similarSongs)]\n",
    "            #for row in temp:\n",
    "                #print(\"Song: \" + row[3] + \", Artist: \" + row[4])\n",
    "            for row in self.temp[['Title','Artist name']].values:\n",
    "                print(\"Song:\",row[0],\", Artist:\",row[1])\n",
    "        \n",
    "        #except:\n",
    "        #    print(\"Unkown Song\")\n",
    "        \n",
    "    \n",
    "    def getSimilarTrackID(self, song, typ = 'Title', k=5):\n",
    "        \n",
    "        if self.temp.empty:\n",
    "            index = self.track_lyrics_df[self.track_lyrics_df[typ] == song].index[0]\n",
    "    \n",
    "            dist, ind = self.tree.query(self.enc[index:index+1], k=int(k)+1)\n",
    "            self.similarSongs = ind[0]\n",
    "\n",
    "            self.temp = self.track_lyrics_df[self.track_lyrics_df.index.isin(self.similarSongs)]\n",
    "            \n",
    "        \n",
    "        return self.temp['ID'].values\n",
    "    \n",
    "    \n",
    "    def getSimilarSongID(self, song, typ = 'Title', k=5):\n",
    "        \n",
    "        try:\n",
    "            index = self.track_lyrics_df[self.track_lyrics_df[typ] == song].index[0]\n",
    "        except:\n",
    "            return [-1]\n",
    "    \n",
    "        dist, ind = self.tree.query(self.enc[index:index+1], k=int(k)+1)\n",
    "        self.similarSongs = ind[0]\n",
    "\n",
    "        self.temp = self.track_lyrics_df[self.track_lyrics_df.index.isin(self.similarSongs)]\n",
    "            \n",
    "        \n",
    "        return self.temp['SongID'].values\n",
    "    \n",
    "        \n",
    "    def RecommendSongs(self, song, typ = 'Title', k=5):\n",
    "        \n",
    "        #song = input()\n",
    "        self.getLyricsSimilarity(song, typ, int(k))\n",
    "        \n",
    "    \n",
    "    def PairwiseDistanceEvaluation(self, song, typ = 'Title', k=5):\n",
    "    \n",
    "        similar_songs = self.getSimilarSongID(song, typ, k)\n",
    "        \n",
    "        try:\n",
    "            idx = self.track_lyrics_df[self.track_lyrics_df[typ] == song].index[0]\n",
    "            song_emb = self.enc[idx]\n",
    "            #print(\"Here\")\n",
    "        except:\n",
    "            return [-1]\n",
    "        \n",
    "        closeness = []\n",
    "        \n",
    "        for s in similar_songs:\n",
    "            idx = self.track_lyrics_df[self.track_lyrics_df['SongID'] == s].index[0]\n",
    "            sim_emb = self.enc[idx]\n",
    "            dist = pairwise_distances(song_emb.reshape(-1,len(self.enc[0])),sim_emb.reshape(-1,len(self.enc[0])), metric='cosine')[0][0]\n",
    "            closeness.append(dist)\n",
    "            \n",
    "        return closeness\n",
    "        \n",
    "            \n",
    "            \n",
    "    \n",
    "    def LyricCloud(self):\n",
    "        \n",
    "        if len(self.similarSongs) == 0:\n",
    "            print(\"Choose Song..\")\n",
    "            self.RecommendSongs()\n",
    "            \n",
    "        temp = pd.DataFrame()\n",
    "        temp['Sentence'] = self.temp['Lyrics'].apply(lambda x: self.getLyrics(x, self.words))\n",
    "        stopwords = set(STOPWORDS)\n",
    "        comment_words = \"\"\n",
    "\n",
    "        # iterate through the csv file\n",
    "        for val in temp.Sentence:\n",
    "\n",
    "            # typecaste each val to string\n",
    "            val = str(val)\n",
    "\n",
    "            # split the value\n",
    "            tokens = val.split()\n",
    "\n",
    "            # Converts each token into lowercase\n",
    "            for i in range(len(tokens)):\n",
    "                tokens[i] = tokens[i].lower()\n",
    "\n",
    "            comment_words += \" \".join(tokens)+\" \"\n",
    "            \n",
    "        \n",
    "        wordcloud = WordCloud(width = 800, height = 800, background_color ='white',\n",
    "                              stopwords = stopwords, min_font_size = 10).generate(comment_words)\n",
    " \n",
    "        # plot the WordCloud image                      \n",
    "        plt.figure(figsize = (5, 5), facecolor = None)\n",
    "        plt.imshow(wordcloud)\n",
    "        plt.axis(\"off\")\n",
    "        plt.tight_layout(pad = 0)\n",
    "        plt.show()\n",
    "\n",
    "        "
   ]
  },
  {
   "cell_type": "code",
   "execution_count": 525,
   "id": "e944dd27",
   "metadata": {},
   "outputs": [
    {
     "name": "stdout",
     "output_type": "stream",
     "text": [
      "Loading TrackIDs, SongIDs, and Lyrics..\n",
      "Loading Words..\n",
      "Loading Track Database..\n",
      "Loading KDD Tree for Lyrics Similarity..\n",
      "Loaded!\n"
     ]
    }
   ],
   "source": [
    "model = Method1()"
   ]
  },
  {
   "cell_type": "code",
   "execution_count": 46,
   "id": "acfaf3ab",
   "metadata": {},
   "outputs": [
    {
     "name": "stdout",
     "output_type": "stream",
     "text": [
      "['A Poor Recipe For Civic Cohesion' 'Soul Deep' \"It's About Time\" ...\n",
      " 'No Angels' 'Dear Lie' 'Trans-Island Skyway (Album Version)']\n"
     ]
    }
   ],
   "source": [
    "model.ShowSongs()"
   ]
  },
  {
   "cell_type": "code",
   "execution_count": 14,
   "id": "1eece846",
   "metadata": {},
   "outputs": [
    {
     "name": "stdout",
     "output_type": "stream",
     "text": [
      "Song: A Poor Recipe For Civic Cohesion , Artist: Western Addiction\n",
      "Song: Scavenger Of Human Sorrow , Artist: Death\n",
      "Song: River Of Deceit , Artist: Mad Season\n",
      "Song: Eleven Miles Out , Artist: Doves\n",
      "Song: On the Throne , Artist: Altar\n",
      "Song: Nebraska , Artist: The Lawrence Arms\n"
     ]
    }
   ],
   "source": [
    "model.RecommendSongs('A Poor Recipe For Civic Cohesion',5)"
   ]
  },
  {
   "cell_type": "code",
   "execution_count": 526,
   "id": "b14ad7cb",
   "metadata": {},
   "outputs": [
    {
     "data": {
      "text/plain": [
       "[0.07714927, 0.074038506, 0.08459395, 0.07776344, 0.0796175, 1.7881393e-07]"
      ]
     },
     "execution_count": 526,
     "metadata": {},
     "output_type": "execute_result"
    }
   ],
   "source": [
    "model.PairwiseDistanceEvaluation(song='SODQUIP12A67020FD2',typ='SongID',k= 5)"
   ]
  },
  {
   "cell_type": "code",
   "execution_count": 527,
   "id": "3c46750a",
   "metadata": {},
   "outputs": [
    {
     "data": {
      "text/plain": [
       "0.31306165"
      ]
     },
     "execution_count": 527,
     "metadata": {},
     "output_type": "execute_result"
    }
   ],
   "source": [
    "pairwise_distances(model.enc[1].reshape(-1,len(model.enc[0])),model.enc[10].reshape(-1,len(model.enc[0])), metric='cosine')[0][0]"
   ]
  },
  {
   "cell_type": "code",
   "execution_count": 546,
   "id": "bdbe1f5e",
   "metadata": {},
   "outputs": [],
   "source": [
    "def EvaluateLyricsSimilarity(model=model, k=5):\n",
    "    #print(k)\n",
    "    temp_df = model.track_lyrics_df['SongID'].sample(int(k))\n",
    "    SongIDs = temp_df.values\n",
    "    \n",
    "    closeness = []\n",
    "    \n",
    "    for s in tqdm(SongIDs):\n",
    "        cls = model.PairwiseDistanceEvaluation(song=s,typ='SongID',k= 5)\n",
    "        closeness.append(np.mean(cls))\n",
    "    \n",
    "    print(\"Lyrics similarity for recommended songs for \" + str(k) + \" songs: \", np.mean(closeness))\n",
    "        \n",
    "        "
   ]
  },
  {
   "cell_type": "code",
   "execution_count": 548,
   "id": "4b80a00c",
   "metadata": {},
   "outputs": [
    {
     "name": "stderr",
     "output_type": "stream",
     "text": [
      "100%|██████████| 500/500 [04:08<00:00,  2.01it/s]"
     ]
    },
    {
     "name": "stdout",
     "output_type": "stream",
     "text": [
      "Lyrics similarity for recommended songs for 500 songs:  0.06872204\n"
     ]
    },
    {
     "name": "stderr",
     "output_type": "stream",
     "text": [
      "\n"
     ]
    }
   ],
   "source": [
    "EvaluateLyricsSimilarity(model=model, k=500)"
   ]
  },
  {
   "cell_type": "code",
   "execution_count": 3,
   "id": "d6c7f433",
   "metadata": {},
   "outputs": [],
   "source": [
    "user = pd.read_csv(\"train_triplets.txt\",sep=\"\\t\",names=['User','SongID','Count'])\n",
    "test_user = pd.read_csv(\"test_users.csv\")\n",
    "song_track = pd.read_csv(\"Song-Track.csv\")\n",
    "user = user[user['User'].isin(test_user['User'].values)] "
   ]
  },
  {
   "cell_type": "code",
   "execution_count": 45,
   "id": "c0da17fc",
   "metadata": {},
   "outputs": [
    {
     "name": "stdout",
     "output_type": "stream",
     "text": [
      "(48373586, 3)\n"
     ]
    },
    {
     "data": {
      "text/html": [
       "<div>\n",
       "<style scoped>\n",
       "    .dataframe tbody tr th:only-of-type {\n",
       "        vertical-align: middle;\n",
       "    }\n",
       "\n",
       "    .dataframe tbody tr th {\n",
       "        vertical-align: top;\n",
       "    }\n",
       "\n",
       "    .dataframe thead th {\n",
       "        text-align: right;\n",
       "    }\n",
       "</style>\n",
       "<table border=\"1\" class=\"dataframe\">\n",
       "  <thead>\n",
       "    <tr style=\"text-align: right;\">\n",
       "      <th></th>\n",
       "      <th>User</th>\n",
       "      <th>SongID</th>\n",
       "      <th>Count</th>\n",
       "    </tr>\n",
       "  </thead>\n",
       "  <tbody>\n",
       "    <tr>\n",
       "      <th>0</th>\n",
       "      <td>b80344d063b5ccb3212f76538f3d9e43d87dca9e</td>\n",
       "      <td>SOAKIMP12A8C130995</td>\n",
       "      <td>1</td>\n",
       "    </tr>\n",
       "    <tr>\n",
       "      <th>1</th>\n",
       "      <td>b80344d063b5ccb3212f76538f3d9e43d87dca9e</td>\n",
       "      <td>SOAPDEY12A81C210A9</td>\n",
       "      <td>1</td>\n",
       "    </tr>\n",
       "    <tr>\n",
       "      <th>2</th>\n",
       "      <td>b80344d063b5ccb3212f76538f3d9e43d87dca9e</td>\n",
       "      <td>SOBBMDR12A8C13253B</td>\n",
       "      <td>2</td>\n",
       "    </tr>\n",
       "    <tr>\n",
       "      <th>3</th>\n",
       "      <td>b80344d063b5ccb3212f76538f3d9e43d87dca9e</td>\n",
       "      <td>SOBFNSP12AF72A0E22</td>\n",
       "      <td>1</td>\n",
       "    </tr>\n",
       "    <tr>\n",
       "      <th>4</th>\n",
       "      <td>b80344d063b5ccb3212f76538f3d9e43d87dca9e</td>\n",
       "      <td>SOBFOVM12A58A7D494</td>\n",
       "      <td>1</td>\n",
       "    </tr>\n",
       "  </tbody>\n",
       "</table>\n",
       "</div>"
      ],
      "text/plain": [
       "                                       User              SongID  Count\n",
       "0  b80344d063b5ccb3212f76538f3d9e43d87dca9e  SOAKIMP12A8C130995      1\n",
       "1  b80344d063b5ccb3212f76538f3d9e43d87dca9e  SOAPDEY12A81C210A9      1\n",
       "2  b80344d063b5ccb3212f76538f3d9e43d87dca9e  SOBBMDR12A8C13253B      2\n",
       "3  b80344d063b5ccb3212f76538f3d9e43d87dca9e  SOBFNSP12AF72A0E22      1\n",
       "4  b80344d063b5ccb3212f76538f3d9e43d87dca9e  SOBFOVM12A58A7D494      1"
      ]
     },
     "execution_count": 45,
     "metadata": {},
     "output_type": "execute_result"
    }
   ],
   "source": [
    "print(user.shape)\n",
    "user.head()"
   ]
  },
  {
   "cell_type": "code",
   "execution_count": 44,
   "id": "e9c2479d",
   "metadata": {},
   "outputs": [
    {
     "name": "stdout",
     "output_type": "stream",
     "text": [
      "(203864, 2)\n"
     ]
    },
    {
     "data": {
      "text/html": [
       "<div>\n",
       "<style scoped>\n",
       "    .dataframe tbody tr th:only-of-type {\n",
       "        vertical-align: middle;\n",
       "    }\n",
       "\n",
       "    .dataframe tbody tr th {\n",
       "        vertical-align: top;\n",
       "    }\n",
       "\n",
       "    .dataframe thead th {\n",
       "        text-align: right;\n",
       "    }\n",
       "</style>\n",
       "<table border=\"1\" class=\"dataframe\">\n",
       "  <thead>\n",
       "    <tr style=\"text-align: right;\">\n",
       "      <th></th>\n",
       "      <th>User</th>\n",
       "      <th>Count</th>\n",
       "    </tr>\n",
       "  </thead>\n",
       "  <tbody>\n",
       "    <tr>\n",
       "      <th>0</th>\n",
       "      <td>8e6949d1633baab45cb05dedc1730d400acad51f</td>\n",
       "      <td>86</td>\n",
       "    </tr>\n",
       "    <tr>\n",
       "      <th>1</th>\n",
       "      <td>c663806c68df5e0172ab48628bdfb6005ad60d40</td>\n",
       "      <td>12</td>\n",
       "    </tr>\n",
       "    <tr>\n",
       "      <th>2</th>\n",
       "      <td>d8398c5a9a7d8a7bf1c05b8797b2e758211df137</td>\n",
       "      <td>15</td>\n",
       "    </tr>\n",
       "    <tr>\n",
       "      <th>3</th>\n",
       "      <td>eeafb3512afb8b876540bfe116505574fb36e8e3</td>\n",
       "      <td>356</td>\n",
       "    </tr>\n",
       "    <tr>\n",
       "      <th>4</th>\n",
       "      <td>e731d8a6826db516f6b53725d7a46a43d586da93</td>\n",
       "      <td>29</td>\n",
       "    </tr>\n",
       "  </tbody>\n",
       "</table>\n",
       "</div>"
      ],
      "text/plain": [
       "                                       User  Count\n",
       "0  8e6949d1633baab45cb05dedc1730d400acad51f     86\n",
       "1  c663806c68df5e0172ab48628bdfb6005ad60d40     12\n",
       "2  d8398c5a9a7d8a7bf1c05b8797b2e758211df137     15\n",
       "3  eeafb3512afb8b876540bfe116505574fb36e8e3    356\n",
       "4  e731d8a6826db516f6b53725d7a46a43d586da93     29"
      ]
     },
     "execution_count": 44,
     "metadata": {},
     "output_type": "execute_result"
    }
   ],
   "source": [
    "print(test_user.shape)\n",
    "test_user.head()"
   ]
  },
  {
   "cell_type": "code",
   "execution_count": 4,
   "id": "502447af",
   "metadata": {},
   "outputs": [],
   "source": []
  },
  {
   "cell_type": "code",
   "execution_count": 5,
   "id": "a574d436",
   "metadata": {},
   "outputs": [
    {
     "data": {
      "text/plain": [
       "(9645956, 3)"
      ]
     },
     "execution_count": 5,
     "metadata": {},
     "output_type": "execute_result"
    }
   ],
   "source": [
    "user.shape"
   ]
  },
  {
   "cell_type": "code",
   "execution_count": 6,
   "id": "1441664e",
   "metadata": {},
   "outputs": [
    {
     "data": {
      "text/plain": [
       "304773"
      ]
     },
     "execution_count": 6,
     "metadata": {},
     "output_type": "execute_result"
    }
   ],
   "source": [
    "len(user[user['SongID'].isin(song_track['SongID'].values)]['SongID'].unique())"
   ]
  },
  {
   "cell_type": "code",
   "execution_count": 7,
   "id": "b98f8db6",
   "metadata": {},
   "outputs": [
    {
     "data": {
      "text/plain": [
       "304773"
      ]
     },
     "execution_count": 7,
     "metadata": {},
     "output_type": "execute_result"
    }
   ],
   "source": [
    "len(user['SongID'].unique())"
   ]
  },
  {
   "cell_type": "code",
   "execution_count": 9,
   "id": "7af4120f",
   "metadata": {},
   "outputs": [
    {
     "name": "stdout",
     "output_type": "stream",
     "text": [
      "(210519, 5)\n"
     ]
    },
    {
     "data": {
      "text/html": [
       "<div>\n",
       "<style scoped>\n",
       "    .dataframe tbody tr th:only-of-type {\n",
       "        vertical-align: middle;\n",
       "    }\n",
       "\n",
       "    .dataframe tbody tr th {\n",
       "        vertical-align: top;\n",
       "    }\n",
       "\n",
       "    .dataframe thead th {\n",
       "        text-align: right;\n",
       "    }\n",
       "</style>\n",
       "<table border=\"1\" class=\"dataframe\">\n",
       "  <thead>\n",
       "    <tr style=\"text-align: right;\">\n",
       "      <th></th>\n",
       "      <th>TrackID</th>\n",
       "      <th>MXM</th>\n",
       "      <th>Lyrics</th>\n",
       "      <th>Title</th>\n",
       "      <th>Artist name</th>\n",
       "    </tr>\n",
       "  </thead>\n",
       "  <tbody>\n",
       "    <tr>\n",
       "      <th>0</th>\n",
       "      <td>TRAAAAV128F421A322</td>\n",
       "      <td>4623710</td>\n",
       "      <td>['1:6', '2:4', '3:2', '4:2', '5:5', '6:3', '7:...</td>\n",
       "      <td>A Poor Recipe For Civic Cohesion</td>\n",
       "      <td>Western Addiction</td>\n",
       "    </tr>\n",
       "    <tr>\n",
       "      <th>1</th>\n",
       "      <td>TRAAABD128F429CF47</td>\n",
       "      <td>6477168</td>\n",
       "      <td>['1:10', '3:17', '4:8', '5:2', '6:2', '7:1', '...</td>\n",
       "      <td>Soul Deep</td>\n",
       "      <td>The Box Tops</td>\n",
       "    </tr>\n",
       "    <tr>\n",
       "      <th>2</th>\n",
       "      <td>TRAAAED128E0783FAB</td>\n",
       "      <td>2516445</td>\n",
       "      <td>['1:28', '2:15', '3:2', '4:12', '5:22', '6:2',...</td>\n",
       "      <td>It's About Time</td>\n",
       "      <td>Jamie Cullum</td>\n",
       "    </tr>\n",
       "    <tr>\n",
       "      <th>3</th>\n",
       "      <td>TRAAAEF128F4273421</td>\n",
       "      <td>3759847</td>\n",
       "      <td>['1:5', '2:4', '3:3', '4:2', '5:1', '6:11', '9...</td>\n",
       "      <td>Something Girls</td>\n",
       "      <td>Adam Ant</td>\n",
       "    </tr>\n",
       "    <tr>\n",
       "      <th>4</th>\n",
       "      <td>TRAAAEW128F42930C0</td>\n",
       "      <td>3783760</td>\n",
       "      <td>['1:4', '4:5', '5:7', '6:2', '7:4', '9:1', '10...</td>\n",
       "      <td>Burn My Body (Album Version)</td>\n",
       "      <td>Broken Spindles</td>\n",
       "    </tr>\n",
       "  </tbody>\n",
       "</table>\n",
       "</div>"
      ],
      "text/plain": [
       "              TrackID      MXM  \\\n",
       "0  TRAAAAV128F421A322  4623710   \n",
       "1  TRAAABD128F429CF47  6477168   \n",
       "2  TRAAAED128E0783FAB  2516445   \n",
       "3  TRAAAEF128F4273421  3759847   \n",
       "4  TRAAAEW128F42930C0  3783760   \n",
       "\n",
       "                                              Lyrics  \\\n",
       "0  ['1:6', '2:4', '3:2', '4:2', '5:5', '6:3', '7:...   \n",
       "1  ['1:10', '3:17', '4:8', '5:2', '6:2', '7:1', '...   \n",
       "2  ['1:28', '2:15', '3:2', '4:12', '5:22', '6:2',...   \n",
       "3  ['1:5', '2:4', '3:3', '4:2', '5:1', '6:11', '9...   \n",
       "4  ['1:4', '4:5', '5:7', '6:2', '7:4', '9:1', '10...   \n",
       "\n",
       "                              Title        Artist name  \n",
       "0  A Poor Recipe For Civic Cohesion  Western Addiction  \n",
       "1                         Soul Deep       The Box Tops  \n",
       "2                   It's About Time       Jamie Cullum  \n",
       "3                   Something Girls           Adam Ant  \n",
       "4      Burn My Body (Album Version)    Broken Spindles  "
      ]
     },
     "execution_count": 9,
     "metadata": {},
     "output_type": "execute_result"
    }
   ],
   "source": [
    "trackdata = pd.read_csv(\"trackdata.csv\")\n",
    "trackdata = trackdata.rename(columns={'ID':'TrackID'})\n",
    "print(trackdata.shape)\n",
    "trackdata.head()"
   ]
  },
  {
   "cell_type": "code",
   "execution_count": 10,
   "id": "33796e55",
   "metadata": {},
   "outputs": [
    {
     "data": {
      "text/plain": [
       "(210519, 6)"
      ]
     },
     "execution_count": 10,
     "metadata": {},
     "output_type": "execute_result"
    }
   ],
   "source": [
    "trackdata.merge(song_track).shape"
   ]
  },
  {
   "cell_type": "code",
   "execution_count": 27,
   "id": "07b29870",
   "metadata": {},
   "outputs": [
    {
     "data": {
      "text/plain": [
       "210519"
      ]
     },
     "execution_count": 27,
     "metadata": {},
     "output_type": "execute_result"
    }
   ],
   "source": [
    "songs = model.ShowSongs(ret=True, feature='SongID')\n",
    "len(songs)"
   ]
  },
  {
   "cell_type": "code",
   "execution_count": 26,
   "id": "70363d85",
   "metadata": {},
   "outputs": [
    {
     "data": {
      "text/plain": [
       "210519"
      ]
     },
     "execution_count": 26,
     "metadata": {},
     "output_type": "execute_result"
    }
   ],
   "source": [
    "len(model.track_lyrics_df['SongID'].unique())"
   ]
  },
  {
   "cell_type": "code",
   "execution_count": 41,
   "id": "614afa15",
   "metadata": {},
   "outputs": [],
   "source": [
    "import random\n",
    "\n",
    "k = 100\n",
    "test_songs = random.sample(set(songs),k)\n",
    "\n"
   ]
  },
  {
   "cell_type": "code",
   "execution_count": null,
   "id": "6720942a",
   "metadata": {},
   "outputs": [],
   "source": [
    "for s in test_songs:\n",
    "    model.getSimilarSongID(song=s, typ='SongID', k=5)\n",
    "    "
   ]
  },
  {
   "cell_type": "code",
   "execution_count": 127,
   "id": "f3b8c862",
   "metadata": {},
   "outputs": [],
   "source": []
  },
  {
   "cell_type": "code",
   "execution_count": 128,
   "id": "b766f6d1",
   "metadata": {},
   "outputs": [
    {
     "name": "stdout",
     "output_type": "stream",
     "text": [
      "['SOMTAKS12AC468DDC1' 'SOCJLHI12AB018B0B0' 'SOISBTJ12AB018FFB6'\n",
      " 'SOTALRK12A8C132E4B' 'SOPPFSD12AB0182EC5' 'SOVQTRT12AB018783D'\n",
      " 'SOSTQAE12A8C145C4A' 'SOQJUHY12A67ADD62A' 'SOAFCNP12A6D4FADCD'\n",
      " 'SOYYZMS12A6D22823A' 'SOLXDQY12AB0183272']\n",
      "SOYYZMS12A6D22823A\n"
     ]
    }
   ],
   "source": [
    "pred = model.getSimilarSongID(song=popular_songs_list[0], typ='SongID', k=10)\n",
    "print(pred)\n",
    "print(test_songs[6])"
   ]
  },
  {
   "cell_type": "code",
   "execution_count": 147,
   "id": "f6e155ac",
   "metadata": {},
   "outputs": [],
   "source": [
    "popular_songs = user.groupby('SongID').agg({'SongID':'size'}).rename(columns={'SongID':'Users'})\n",
    "popular_songs = popular_songs.reset_index()"
   ]
  },
  {
   "cell_type": "code",
   "execution_count": 151,
   "id": "6d02a03a",
   "metadata": {},
   "outputs": [
    {
     "data": {
      "text/html": [
       "<div>\n",
       "<style scoped>\n",
       "    .dataframe tbody tr th:only-of-type {\n",
       "        vertical-align: middle;\n",
       "    }\n",
       "\n",
       "    .dataframe tbody tr th {\n",
       "        vertical-align: top;\n",
       "    }\n",
       "\n",
       "    .dataframe thead th {\n",
       "        text-align: right;\n",
       "    }\n",
       "</style>\n",
       "<table border=\"1\" class=\"dataframe\">\n",
       "  <thead>\n",
       "    <tr style=\"text-align: right;\">\n",
       "      <th></th>\n",
       "      <th>SongID</th>\n",
       "      <th>Users</th>\n",
       "    </tr>\n",
       "  </thead>\n",
       "  <tbody>\n",
       "    <tr>\n",
       "      <th>71703</th>\n",
       "      <td>SOFRQTD12A81C233C0</td>\n",
       "      <td>22083</td>\n",
       "    </tr>\n",
       "    <tr>\n",
       "      <th>11377</th>\n",
       "      <td>SOAXGDH12A8C13F8A1</td>\n",
       "      <td>18076</td>\n",
       "    </tr>\n",
       "    <tr>\n",
       "      <th>10269</th>\n",
       "      <td>SOAUWYT12A81C206F1</td>\n",
       "      <td>17749</td>\n",
       "    </tr>\n",
       "    <tr>\n",
       "      <th>19789</th>\n",
       "      <td>SOBONKR12A58A7A7E0</td>\n",
       "      <td>16485</td>\n",
       "    </tr>\n",
       "    <tr>\n",
       "      <th>227579</th>\n",
       "      <td>SOSXLTC12AF72A7F54</td>\n",
       "      <td>16080</td>\n",
       "    </tr>\n",
       "    <tr>\n",
       "      <th>...</th>\n",
       "      <td>...</td>\n",
       "      <td>...</td>\n",
       "    </tr>\n",
       "    <tr>\n",
       "      <th>86640</th>\n",
       "      <td>SOGWYLG12A8C139C49</td>\n",
       "      <td>1</td>\n",
       "    </tr>\n",
       "    <tr>\n",
       "      <th>86641</th>\n",
       "      <td>SOGWYNO12A8C145D4D</td>\n",
       "      <td>1</td>\n",
       "    </tr>\n",
       "    <tr>\n",
       "      <th>157172</th>\n",
       "      <td>SOMTEBW12A8C1381EF</td>\n",
       "      <td>1</td>\n",
       "    </tr>\n",
       "    <tr>\n",
       "      <th>157232</th>\n",
       "      <td>SOMTHFU12A8C132013</td>\n",
       "      <td>1</td>\n",
       "    </tr>\n",
       "    <tr>\n",
       "      <th>56545</th>\n",
       "      <td>SOEMCXA12A8C138AC7</td>\n",
       "      <td>1</td>\n",
       "    </tr>\n",
       "  </tbody>\n",
       "</table>\n",
       "<p>304773 rows × 2 columns</p>\n",
       "</div>"
      ],
      "text/plain": [
       "                    SongID  Users\n",
       "71703   SOFRQTD12A81C233C0  22083\n",
       "11377   SOAXGDH12A8C13F8A1  18076\n",
       "10269   SOAUWYT12A81C206F1  17749\n",
       "19789   SOBONKR12A58A7A7E0  16485\n",
       "227579  SOSXLTC12AF72A7F54  16080\n",
       "...                    ...    ...\n",
       "86640   SOGWYLG12A8C139C49      1\n",
       "86641   SOGWYNO12A8C145D4D      1\n",
       "157172  SOMTEBW12A8C1381EF      1\n",
       "157232  SOMTHFU12A8C132013      1\n",
       "56545   SOEMCXA12A8C138AC7      1\n",
       "\n",
       "[304773 rows x 2 columns]"
      ]
     },
     "execution_count": 151,
     "metadata": {},
     "output_type": "execute_result"
    }
   ],
   "source": [
    "popular_songs = popular_songs.sort_values(by=['Users'], ascending=False)\n",
    "popular_songs_list = popular_songs['SongID'].head(50).to_list()\n",
    "popular_songs "
   ]
  },
  {
   "cell_type": "code",
   "execution_count": 169,
   "id": "7b3c84da",
   "metadata": {},
   "outputs": [],
   "source": [
    "tot = user[user['User'].isin(user[user['SongID'] == popular_songs_list[5]]['User'].unique())]['SongID'].unique()"
   ]
  },
  {
   "cell_type": "code",
   "execution_count": 170,
   "id": "933fd4b2",
   "metadata": {},
   "outputs": [
    {
     "data": {
      "text/html": [
       "<div>\n",
       "<style scoped>\n",
       "    .dataframe tbody tr th:only-of-type {\n",
       "        vertical-align: middle;\n",
       "    }\n",
       "\n",
       "    .dataframe tbody tr th {\n",
       "        vertical-align: top;\n",
       "    }\n",
       "\n",
       "    .dataframe thead th {\n",
       "        text-align: right;\n",
       "    }\n",
       "</style>\n",
       "<table border=\"1\" class=\"dataframe\">\n",
       "  <thead>\n",
       "    <tr style=\"text-align: right;\">\n",
       "      <th></th>\n",
       "      <th>User</th>\n",
       "      <th>SongID</th>\n",
       "      <th>Count</th>\n",
       "    </tr>\n",
       "  </thead>\n",
       "  <tbody>\n",
       "    <tr>\n",
       "      <th>3842</th>\n",
       "      <td>8cbb5066924ec788e3fea9a4aae59586f46f38fa</td>\n",
       "      <td>SONYKOW12AB01849C9</td>\n",
       "      <td>1</td>\n",
       "    </tr>\n",
       "    <tr>\n",
       "      <th>5288</th>\n",
       "      <td>2f343c8bd0502c4cf851a6970e47d296a4b76d5b</td>\n",
       "      <td>SONYKOW12AB01849C9</td>\n",
       "      <td>1</td>\n",
       "    </tr>\n",
       "    <tr>\n",
       "      <th>7043</th>\n",
       "      <td>a520488fcf049bbb5cd847cfa4f884c740692780</td>\n",
       "      <td>SONYKOW12AB01849C9</td>\n",
       "      <td>1</td>\n",
       "    </tr>\n",
       "    <tr>\n",
       "      <th>9152</th>\n",
       "      <td>7d0317ddb859a960cb4836e7c7e9982a54fd64e2</td>\n",
       "      <td>SONYKOW12AB01849C9</td>\n",
       "      <td>1</td>\n",
       "    </tr>\n",
       "    <tr>\n",
       "      <th>10007</th>\n",
       "      <td>8caf9a87e266a22298bd977a63489d008af241c5</td>\n",
       "      <td>SONYKOW12AB01849C9</td>\n",
       "      <td>4</td>\n",
       "    </tr>\n",
       "    <tr>\n",
       "      <th>...</th>\n",
       "      <td>...</td>\n",
       "      <td>...</td>\n",
       "      <td>...</td>\n",
       "    </tr>\n",
       "    <tr>\n",
       "      <th>48354589</th>\n",
       "      <td>4020fc2964bb39d2175b875a06aea642e42dc6af</td>\n",
       "      <td>SONYKOW12AB01849C9</td>\n",
       "      <td>2</td>\n",
       "    </tr>\n",
       "    <tr>\n",
       "      <th>48361447</th>\n",
       "      <td>72b4b67956ab6d4ff66d9981dc8bb90d07181e1e</td>\n",
       "      <td>SONYKOW12AB01849C9</td>\n",
       "      <td>8</td>\n",
       "    </tr>\n",
       "    <tr>\n",
       "      <th>48363129</th>\n",
       "      <td>59f73d338d87898f5da11d5c3d5d61f27987ba74</td>\n",
       "      <td>SONYKOW12AB01849C9</td>\n",
       "      <td>1</td>\n",
       "    </tr>\n",
       "    <tr>\n",
       "      <th>48367576</th>\n",
       "      <td>f05365567be5ef581c5836dbaf9a38fd78dcc3bb</td>\n",
       "      <td>SONYKOW12AB01849C9</td>\n",
       "      <td>1</td>\n",
       "    </tr>\n",
       "    <tr>\n",
       "      <th>48372806</th>\n",
       "      <td>967e5c9580513692fb0f44444f1058fdec223a98</td>\n",
       "      <td>SONYKOW12AB01849C9</td>\n",
       "      <td>2</td>\n",
       "    </tr>\n",
       "  </tbody>\n",
       "</table>\n",
       "<p>15425 rows × 3 columns</p>\n",
       "</div>"
      ],
      "text/plain": [
       "                                              User              SongID  Count\n",
       "3842      8cbb5066924ec788e3fea9a4aae59586f46f38fa  SONYKOW12AB01849C9      1\n",
       "5288      2f343c8bd0502c4cf851a6970e47d296a4b76d5b  SONYKOW12AB01849C9      1\n",
       "7043      a520488fcf049bbb5cd847cfa4f884c740692780  SONYKOW12AB01849C9      1\n",
       "9152      7d0317ddb859a960cb4836e7c7e9982a54fd64e2  SONYKOW12AB01849C9      1\n",
       "10007     8caf9a87e266a22298bd977a63489d008af241c5  SONYKOW12AB01849C9      4\n",
       "...                                            ...                 ...    ...\n",
       "48354589  4020fc2964bb39d2175b875a06aea642e42dc6af  SONYKOW12AB01849C9      2\n",
       "48361447  72b4b67956ab6d4ff66d9981dc8bb90d07181e1e  SONYKOW12AB01849C9      8\n",
       "48363129  59f73d338d87898f5da11d5c3d5d61f27987ba74  SONYKOW12AB01849C9      1\n",
       "48367576  f05365567be5ef581c5836dbaf9a38fd78dcc3bb  SONYKOW12AB01849C9      1\n",
       "48372806  967e5c9580513692fb0f44444f1058fdec223a98  SONYKOW12AB01849C9      2\n",
       "\n",
       "[15425 rows x 3 columns]"
      ]
     },
     "execution_count": 170,
     "metadata": {},
     "output_type": "execute_result"
    }
   ],
   "source": [
    "user[user['SongID'] == popular_songs_list[5]]"
   ]
  },
  {
   "cell_type": "code",
   "execution_count": 158,
   "id": "f8283168",
   "metadata": {},
   "outputs": [
    {
     "data": {
      "text/plain": [
       "'SOAUWYT12A81C206F1'"
      ]
     },
     "execution_count": 158,
     "metadata": {},
     "output_type": "execute_result"
    }
   ],
   "source": [
    "popular_songs_list[2]"
   ]
  },
  {
   "cell_type": "code",
   "execution_count": 168,
   "id": "de88a219",
   "metadata": {},
   "outputs": [
    {
     "name": "stdout",
     "output_type": "stream",
     "text": [
      "['SOLYAYO12A8C13C04D' 'SOTNKMR12A8C140F33' 'SONYKOW12AB01849C9'\n",
      " 'SORQGDL12AB0181C33' 'SOUFGTT12AB017C1D7' 'SOFIWRN12AB0186819']\n",
      "SOFRQTD12A81C233C0\n"
     ]
    }
   ],
   "source": [
    "pred = model.getSimilarSongID(song=popular_songs_list[5], typ='SongID', k=5)\n",
    "print(pred)\n",
    "print(popular_songs_list[0])"
   ]
  },
  {
   "cell_type": "code",
   "execution_count": 171,
   "id": "5a8aa141",
   "metadata": {},
   "outputs": [
    {
     "data": {
      "text/plain": [
       "2"
      ]
     },
     "execution_count": 171,
     "metadata": {},
     "output_type": "execute_result"
    }
   ],
   "source": [
    "i = 0\n",
    "\n",
    "for j in pred:\n",
    "    if j in tot:\n",
    "        i+=1\n",
    "i"
   ]
  },
  {
   "cell_type": "code",
   "execution_count": 73,
   "id": "b998eafa",
   "metadata": {},
   "outputs": [
    {
     "data": {
      "text/plain": [
       "array(['SOQPWCR12A6D4FB2A3', 'SOXZKKZ12A8C13D5BA', 'SOIKPOV12A58A7A6B2',\n",
       "       'SOJKDDZ12AC9097781', 'SODQUIP12A67020FD2', 'SOEFSIL12A58A804A5'],\n",
       "      dtype=object)"
      ]
     },
     "execution_count": 73,
     "metadata": {},
     "output_type": "execute_result"
    }
   ],
   "source": [
    "pred"
   ]
  },
  {
   "cell_type": "code",
   "execution_count": 68,
   "id": "9980680a",
   "metadata": {},
   "outputs": [
    {
     "data": {
      "text/plain": [
       "array(['SOARUPP12AB01842E0', 'SOASTSF12A8C1420B5', 'SOBDWPN12A8C13F43C',\n",
       "       ..., 'SOYUFMA12A8C139FEC', 'SOZDAAD12A8C146C0E',\n",
       "       'SOZYWKE12A8C13F11D'], dtype=object)"
      ]
     },
     "execution_count": 68,
     "metadata": {},
     "output_type": "execute_result"
    }
   ],
   "source": [
    "tot"
   ]
  },
  {
   "cell_type": "code",
   "execution_count": 78,
   "id": "fc951a01",
   "metadata": {},
   "outputs": [
    {
     "data": {
      "text/plain": [
       "'SOWOGRM12A8C133D98'"
      ]
     },
     "execution_count": 78,
     "metadata": {},
     "output_type": "execute_result"
    }
   ],
   "source": [
    "test_songs[1]"
   ]
  },
  {
   "cell_type": "code",
   "execution_count": 102,
   "id": "48dffbcd",
   "metadata": {},
   "outputs": [
    {
     "name": "stdout",
     "output_type": "stream",
     "text": [
      "Song: Janus (Riff Monster - topical) , Artist: The Gone Jackals\n",
      "Song: No Turn Un-Stoned , Artist: Shpongle\n",
      "Song: Freak Out! (Album) , Artist: Every Avenue\n",
      "Song: Killer From The Deep , Artist: Evile\n",
      "Song: One Way Out , Artist: Rob Rock\n",
      "Song: On the Throne , Artist: Altar\n"
     ]
    }
   ],
   "source": [
    "model.RecommendSongs(song='On the Throne', typ='Title', k=5)"
   ]
  },
  {
   "cell_type": "markdown",
   "id": "29a715f9",
   "metadata": {},
   "source": [
    "## Evaluation 1:"
   ]
  },
  {
   "cell_type": "code",
   "execution_count": 574,
   "id": "f9386eaf",
   "metadata": {},
   "outputs": [],
   "source": [
    "from tqdm import tqdm\n",
    "\n",
    "def Evaluate1(k=500, user_k=10):\n",
    "    \n",
    "    popular_songs = user.groupby('SongID').agg({'SongID':'size'}).rename(columns={'SongID':'Users'})\n",
    "    popular_songs = popular_songs.reset_index()\n",
    "    popular_songs = popular_songs.sort_values(by=['Users'], ascending=False)\n",
    "    popular_songs_list = popular_songs['SongID'].head(k).to_list()\n",
    "    \n",
    "    not_in_model = 0\n",
    "    users_who_listened = []\n",
    "    fraction = []\n",
    "    \n",
    "    for s in tqdm(popular_songs_list):\n",
    "        \n",
    "        pred = model.getSimilarSongID(song=s, typ='SongID', k=10)\n",
    "        #print(s, pred)\n",
    "\n",
    "        if pred[0] == -1:\n",
    "            not_in_model +=1\n",
    "            continue\n",
    "          \n",
    "        \n",
    "        for ind in range(len(pred)):\n",
    "            if s == pred[ind]:\n",
    "                #print(pred, ind)\n",
    "                p = np.delete(pred, ind)\n",
    "                #print(p)\n",
    "          \n",
    "        user_list = user[user['SongID'] == s].sort_values(by=['Count'],ascending=False)\n",
    "        user_list = user_list.head(user_k)\n",
    "\n",
    "        user_list = user_list['User'].values\n",
    "        tot = user[user['User'].isin(user_list)]\n",
    "        count = len(tot[tot['SongID'].isin(p)]['User'].unique())\n",
    "        frac = len(user_list)\n",
    "\n",
    "        \n",
    "        users_who_listened.append(count)\n",
    "        fraction.append(frac)\n",
    "        \n",
    "    \n",
    "    return users_who_listened, fraction, not_in_model\n",
    "        "
   ]
  },
  {
   "cell_type": "code",
   "execution_count": 575,
   "id": "4260fb18",
   "metadata": {},
   "outputs": [
    {
     "name": "stderr",
     "output_type": "stream",
     "text": [
      "100%|██████████| 500/500 [06:34<00:00,  1.27it/s]\n"
     ]
    }
   ],
   "source": [
    "a, b, c = Evaluate1()"
   ]
  },
  {
   "cell_type": "code",
   "execution_count": 576,
   "id": "44b81dd2",
   "metadata": {},
   "outputs": [
    {
     "name": "stdout",
     "output_type": "stream",
     "text": [
      "Evaluation 1 accuracy with all users: 0.8189655172413793\n",
      "Evaluation 1 accuracy for at least one of the top k users: 8.189655172413794\n"
     ]
    }
   ],
   "source": [
    "res = [(i / j)*100 for i, j in zip(a, b)]\n",
    "print(\"Evaluation 1 accuracy with all users:\",np.mean(res))\n",
    "print(\"Evaluation 1 accuracy for at least one of the top k users:\",np.mean(a)*100)"
   ]
  },
  {
   "cell_type": "code",
   "execution_count": 250,
   "id": "1fc51cab",
   "metadata": {},
   "outputs": [],
   "source": [
    "user_user = np.load(\"user_user_similar.pkl\", allow_pickle=True)"
   ]
  },
  {
   "cell_type": "code",
   "execution_count": 254,
   "id": "c862a3e8",
   "metadata": {},
   "outputs": [
    {
     "data": {
      "text/plain": [
       "(384546, 5)"
      ]
     },
     "execution_count": 254,
     "metadata": {},
     "output_type": "execute_result"
    }
   ],
   "source": [
    "np.shape(user_user)"
   ]
  },
  {
   "cell_type": "code",
   "execution_count": 255,
   "id": "b5626556",
   "metadata": {},
   "outputs": [],
   "source": [
    "user_dup = pd.read_csv(\"train_triplets.txt\",sep=\"\\t\",names=['User','SongID','Count'])"
   ]
  },
  {
   "cell_type": "code",
   "execution_count": 256,
   "id": "b1e432ad",
   "metadata": {},
   "outputs": [
    {
     "data": {
      "text/plain": [
       "1019318"
      ]
     },
     "execution_count": 256,
     "metadata": {},
     "output_type": "execute_result"
    }
   ],
   "source": [
    "len(user_dup['User'].unique())"
   ]
  },
  {
   "cell_type": "code",
   "execution_count": 265,
   "id": "f1a37e39",
   "metadata": {},
   "outputs": [
    {
     "data": {
      "text/plain": [
       "array([  3090,  73960, 337689, 379576,   9000])"
      ]
     },
     "execution_count": 265,
     "metadata": {},
     "output_type": "execute_result"
    }
   ],
   "source": [
    "user_user[9000]"
   ]
  },
  {
   "cell_type": "code",
   "execution_count": 261,
   "id": "f23d59f2",
   "metadata": {},
   "outputs": [],
   "source": [
    "users = np.array(list(np.sort(user_dup['User'].unique())))"
   ]
  },
  {
   "cell_type": "code",
   "execution_count": 263,
   "id": "fefa9a27",
   "metadata": {},
   "outputs": [
    {
     "data": {
      "text/plain": [
       "1019318"
      ]
     },
     "execution_count": 263,
     "metadata": {},
     "output_type": "execute_result"
    }
   ],
   "source": [
    "len(users)"
   ]
  },
  {
   "cell_type": "code",
   "execution_count": 268,
   "id": "05d993d8",
   "metadata": {},
   "outputs": [],
   "source": [
    "rows = user_dup['User'].astype(CategoricalDtype(categories=users)).cat.codes"
   ]
  },
  {
   "cell_type": "code",
   "execution_count": 267,
   "id": "afa7b236",
   "metadata": {},
   "outputs": [],
   "source": []
  },
  {
   "cell_type": "code",
   "execution_count": 270,
   "id": "69e7c5c0",
   "metadata": {},
   "outputs": [
    {
     "data": {
      "text/plain": [
       "1019318"
      ]
     },
     "execution_count": 270,
     "metadata": {},
     "output_type": "execute_result"
    }
   ],
   "source": [
    "len(rows.unique())"
   ]
  },
  {
   "cell_type": "code",
   "execution_count": 273,
   "id": "8e466859",
   "metadata": {},
   "outputs": [
    {
     "data": {
      "text/plain": [
       "384545"
      ]
     },
     "execution_count": 273,
     "metadata": {},
     "output_type": "execute_result"
    }
   ],
   "source": [
    "np.max(user_user)"
   ]
  },
  {
   "cell_type": "code",
   "execution_count": 276,
   "id": "a8b29003",
   "metadata": {},
   "outputs": [
    {
     "data": {
      "text/plain": [
       "array([ 68706, 287546,     44,  73190,    100])"
      ]
     },
     "execution_count": 276,
     "metadata": {},
     "output_type": "execute_result"
    }
   ],
   "source": [
    "user_user[100]"
   ]
  },
  {
   "cell_type": "code",
   "execution_count": 277,
   "id": "6168a4de",
   "metadata": {},
   "outputs": [],
   "source": [
    "import pickle\n",
    "\n",
    "loaded_model = pickle.load(open(\"svd_model.pkl\", 'rb'))"
   ]
  },
  {
   "cell_type": "code",
   "execution_count": 278,
   "id": "32b36e79",
   "metadata": {},
   "outputs": [
    {
     "data": {
      "text/plain": [
       "'b80344d063b5ccb3212f76538f3d9e43d87dca9e'"
      ]
     },
     "execution_count": 278,
     "metadata": {},
     "output_type": "execute_result"
    }
   ],
   "source": [
    "user_dup['User'].values[0]"
   ]
  },
  {
   "cell_type": "code",
   "execution_count": 293,
   "id": "3aed3621",
   "metadata": {},
   "outputs": [
    {
     "data": {
      "text/plain": [
       "Prediction(uid='b80344d063b5ccb3212f76538f3d9e43d87dca9e', iid='SOAKIMP12A8C130995', r_ui=None, est=9, details={'was_impossible': False})"
      ]
     },
     "execution_count": 293,
     "metadata": {},
     "output_type": "execute_result"
    }
   ],
   "source": [
    "pred = loaded_model.predict(uid=user_dup['User'].values[0], iid=user_dup['SongID'].values[0])\n",
    "pred"
   ]
  },
  {
   "cell_type": "code",
   "execution_count": 291,
   "id": "84f71154",
   "metadata": {},
   "outputs": [
    {
     "data": {
      "text/plain": [
       "Prediction(uid='8caf9a87e266a22298bd977a63489d008af241c5', iid='SOYYWMD12A58A7BCC9', r_ui=None, est=9, details={'was_impossible': False})"
      ]
     },
     "execution_count": 291,
     "metadata": {},
     "output_type": "execute_result"
    }
   ],
   "source": [
    "pred"
   ]
  },
  {
   "cell_type": "code",
   "execution_count": 316,
   "id": "59f00603",
   "metadata": {},
   "outputs": [],
   "source": [
    "us = user_dup[user_dup['Count'] > 10].groupby('Count').agg({'Count':'size'}).rename(columns={'Count':'Users-Song'})"
   ]
  },
  {
   "cell_type": "code",
   "execution_count": 318,
   "id": "253bdfaa",
   "metadata": {},
   "outputs": [
    {
     "data": {
      "text/plain": [
       "<AxesSubplot:>"
      ]
     },
     "execution_count": 318,
     "metadata": {},
     "output_type": "execute_result"
    },
    {
     "data": {
      "image/png": "[encoded data removed]",
      "text/plain": [
       "<Figure size 432x288 with 1 Axes>"
      ]
     },
     "metadata": {
      "needs_background": "light"
     },
     "output_type": "display_data"
    }
   ],
   "source": [
    "user_dup['Frac'] = user_dup['Count']/user_dup['Count'].max()\n"
   ]
  },
  {
   "cell_type": "code",
   "execution_count": 321,
   "id": "d3d01951",
   "metadata": {},
   "outputs": [
    {
     "data": {
      "text/plain": [
       "<AxesSubplot:>"
      ]
     },
     "execution_count": 321,
     "metadata": {},
     "output_type": "execute_result"
    },
    {
     "data": {
      "image/png": "[encoded data removed]",
      "text/plain": [
       "<Figure size 432x288 with 1 Axes>"
      ]
     },
     "metadata": {
      "needs_background": "light"
     },
     "output_type": "display_data"
    }
   ],
   "source": [
    "user_dup[user_dup['Frac']>0.3]['Frac'].hist()"
   ]
  },
  {
   "cell_type": "code",
   "execution_count": 317,
   "id": "f32dd482",
   "metadata": {},
   "outputs": [
    {
     "data": {
      "text/plain": [
       "9667"
      ]
     },
     "execution_count": 317,
     "metadata": {},
     "output_type": "execute_result"
    }
   ],
   "source": [
    "user_dup['Count'].max()"
   ]
  },
  {
   "cell_type": "code",
   "execution_count": 326,
   "id": "9a11416a",
   "metadata": {},
   "outputs": [
    {
     "data": {
      "text/html": [
       "<div>\n",
       "<style scoped>\n",
       "    .dataframe tbody tr th:only-of-type {\n",
       "        vertical-align: middle;\n",
       "    }\n",
       "\n",
       "    .dataframe tbody tr th {\n",
       "        vertical-align: top;\n",
       "    }\n",
       "\n",
       "    .dataframe thead th {\n",
       "        text-align: right;\n",
       "    }\n",
       "</style>\n",
       "<table border=\"1\" class=\"dataframe\">\n",
       "  <thead>\n",
       "    <tr style=\"text-align: right;\">\n",
       "      <th></th>\n",
       "      <th>Users-Song</th>\n",
       "    </tr>\n",
       "    <tr>\n",
       "      <th>Count</th>\n",
       "      <th></th>\n",
       "    </tr>\n",
       "  </thead>\n",
       "  <tbody>\n",
       "    <tr>\n",
       "      <th>98</th>\n",
       "      <td>492</td>\n",
       "    </tr>\n",
       "    <tr>\n",
       "      <th>101</th>\n",
       "      <td>451</td>\n",
       "    </tr>\n",
       "    <tr>\n",
       "      <th>102</th>\n",
       "      <td>453</td>\n",
       "    </tr>\n",
       "    <tr>\n",
       "      <th>103</th>\n",
       "      <td>409</td>\n",
       "    </tr>\n",
       "    <tr>\n",
       "      <th>104</th>\n",
       "      <td>467</td>\n",
       "    </tr>\n",
       "    <tr>\n",
       "      <th>...</th>\n",
       "      <td>...</td>\n",
       "    </tr>\n",
       "    <tr>\n",
       "      <th>2381</th>\n",
       "      <td>1</td>\n",
       "    </tr>\n",
       "    <tr>\n",
       "      <th>2948</th>\n",
       "      <td>1</td>\n",
       "    </tr>\n",
       "    <tr>\n",
       "      <th>3532</th>\n",
       "      <td>1</td>\n",
       "    </tr>\n",
       "    <tr>\n",
       "      <th>3534</th>\n",
       "      <td>1</td>\n",
       "    </tr>\n",
       "    <tr>\n",
       "      <th>9667</th>\n",
       "      <td>1</td>\n",
       "    </tr>\n",
       "  </tbody>\n",
       "</table>\n",
       "<p>621 rows × 1 columns</p>\n",
       "</div>"
      ],
      "text/plain": [
       "       Users-Song\n",
       "Count            \n",
       "98            492\n",
       "101           451\n",
       "102           453\n",
       "103           409\n",
       "104           467\n",
       "...           ...\n",
       "2381            1\n",
       "2948            1\n",
       "3532            1\n",
       "3534            1\n",
       "9667            1\n",
       "\n",
       "[621 rows x 1 columns]"
      ]
     },
     "execution_count": 326,
     "metadata": {},
     "output_type": "execute_result"
    }
   ],
   "source": [
    "us[us[\"Users-Song\"]<500]"
   ]
  },
  {
   "cell_type": "code",
   "execution_count": 336,
   "id": "fa483aca",
   "metadata": {},
   "outputs": [
    {
     "data": {
      "text/plain": [
       "[NaN, (0.0, 10.0], (91.0, 10000.0], (0.0, 10.0], (0.0, 10.0]]\n",
       "Categories (10, interval[int64]): [(0, 10] < (11, 20] < (21, 30] < (31, 40] ... (61, 70] < (71, 80] < (81, 90] < (91, 10000]]"
      ]
     },
     "execution_count": 336,
     "metadata": {},
     "output_type": "execute_result"
    }
   ],
   "source": [
    "bins = pd.IntervalIndex.from_tuples([(0, 10), (11, 20), (21, 30), (31, 40), (41, 50), (51, 60), (61, 70), (71, 80), (81, 90), (91,10000)])\n",
    "pd.cut([0, 0.5, 91.5, 2.5, 4.5], bins, labels=[1,2,3,4,5,6,7,8,9,10])"
   ]
  },
  {
   "cell_type": "code",
   "execution_count": 329,
   "id": "64ce3c2b",
   "metadata": {},
   "outputs": [
    {
     "data": {
      "text/html": [
       "<div>\n",
       "<style scoped>\n",
       "    .dataframe tbody tr th:only-of-type {\n",
       "        vertical-align: middle;\n",
       "    }\n",
       "\n",
       "    .dataframe tbody tr th {\n",
       "        vertical-align: top;\n",
       "    }\n",
       "\n",
       "    .dataframe thead th {\n",
       "        text-align: right;\n",
       "    }\n",
       "</style>\n",
       "<table border=\"1\" class=\"dataframe\">\n",
       "  <thead>\n",
       "    <tr style=\"text-align: right;\">\n",
       "      <th></th>\n",
       "      <th>Users-Song</th>\n",
       "    </tr>\n",
       "    <tr>\n",
       "      <th>Count</th>\n",
       "      <th></th>\n",
       "    </tr>\n",
       "  </thead>\n",
       "  <tbody>\n",
       "    <tr>\n",
       "      <th>100</th>\n",
       "      <td>506</td>\n",
       "    </tr>\n",
       "  </tbody>\n",
       "</table>\n",
       "</div>"
      ],
      "text/plain": [
       "       Users-Song\n",
       "Count            \n",
       "100           506"
      ]
     },
     "execution_count": 329,
     "metadata": {},
     "output_type": "execute_result"
    }
   ],
   "source": [
    "us[us.index==100]"
   ]
  },
  {
   "cell_type": "code",
   "execution_count": 333,
   "id": "06d09ddb",
   "metadata": {},
   "outputs": [
    {
     "data": {
      "text/plain": [
       "1     48373519\n",
       "2           57\n",
       "3            6\n",
       "4            3\n",
       "10           1\n",
       "9            0\n",
       "8            0\n",
       "7            0\n",
       "6            0\n",
       "5            0\n",
       "Name: Count, dtype: int64"
      ]
     },
     "execution_count": 333,
     "metadata": {},
     "output_type": "execute_result"
    }
   ],
   "source": [
    "pd.cut(user_dup['Count'],10,labels=[1,2,3,4,5,6,7,8,9,10]).value_counts()"
   ]
  },
  {
   "cell_type": "code",
   "execution_count": 334,
   "id": "ff3dc49f",
   "metadata": {},
   "outputs": [
    {
     "data": {
      "text/html": [
       "<div>\n",
       "<style scoped>\n",
       "    .dataframe tbody tr th:only-of-type {\n",
       "        vertical-align: middle;\n",
       "    }\n",
       "\n",
       "    .dataframe tbody tr th {\n",
       "        vertical-align: top;\n",
       "    }\n",
       "\n",
       "    .dataframe thead th {\n",
       "        text-align: right;\n",
       "    }\n",
       "</style>\n",
       "<table border=\"1\" class=\"dataframe\">\n",
       "  <thead>\n",
       "    <tr style=\"text-align: right;\">\n",
       "      <th></th>\n",
       "      <th>User</th>\n",
       "      <th>SongID</th>\n",
       "      <th>Count</th>\n",
       "      <th>Frac</th>\n",
       "    </tr>\n",
       "  </thead>\n",
       "  <tbody>\n",
       "    <tr>\n",
       "      <th>2209</th>\n",
       "      <td>3f152d355d53865a2ca27ac5ceeffb7ebaea0a26</td>\n",
       "      <td>SOYZLWW12AB0186148</td>\n",
       "      <td>55</td>\n",
       "      <td>0.005689</td>\n",
       "    </tr>\n",
       "    <tr>\n",
       "      <th>2213</th>\n",
       "      <td>3f152d355d53865a2ca27ac5ceeffb7ebaea0a26</td>\n",
       "      <td>SOZFYTZ12AB018565D</td>\n",
       "      <td>52</td>\n",
       "      <td>0.005379</td>\n",
       "    </tr>\n",
       "    <tr>\n",
       "      <th>2632</th>\n",
       "      <td>43683da3c6c5a93c7938ff550faf0d039a9a639a</td>\n",
       "      <td>SOUEAYG12A6D4FE4AF</td>\n",
       "      <td>126</td>\n",
       "      <td>0.013034</td>\n",
       "    </tr>\n",
       "    <tr>\n",
       "      <th>2908</th>\n",
       "      <td>99b5f915dd56a0150eb91605e1f6109e1e80c9de</td>\n",
       "      <td>SOBONKR12A58A7A7E0</td>\n",
       "      <td>58</td>\n",
       "      <td>0.006000</td>\n",
       "    </tr>\n",
       "    <tr>\n",
       "      <th>3186</th>\n",
       "      <td>edc8b7b1fd592a3b69c3d823a742e1a064abec95</td>\n",
       "      <td>SOURSIU12A8C140B9A</td>\n",
       "      <td>77</td>\n",
       "      <td>0.007965</td>\n",
       "    </tr>\n",
       "    <tr>\n",
       "      <th>...</th>\n",
       "      <td>...</td>\n",
       "      <td>...</td>\n",
       "      <td>...</td>\n",
       "      <td>...</td>\n",
       "    </tr>\n",
       "    <tr>\n",
       "      <th>48369829</th>\n",
       "      <td>0f4e408968413371e7d487bc78e92259e403349f</td>\n",
       "      <td>SOJTWGB12A58A7ADFB</td>\n",
       "      <td>92</td>\n",
       "      <td>0.009517</td>\n",
       "    </tr>\n",
       "    <tr>\n",
       "      <th>48371405</th>\n",
       "      <td>27604dd5e034cc07ce60d201c3c22377415de352</td>\n",
       "      <td>SODAJWB12A8C13BE3E</td>\n",
       "      <td>58</td>\n",
       "      <td>0.006000</td>\n",
       "    </tr>\n",
       "    <tr>\n",
       "      <th>48371413</th>\n",
       "      <td>27604dd5e034cc07ce60d201c3c22377415de352</td>\n",
       "      <td>SOMMIXC12A6D4F9EF0</td>\n",
       "      <td>261</td>\n",
       "      <td>0.026999</td>\n",
       "    </tr>\n",
       "    <tr>\n",
       "      <th>48371414</th>\n",
       "      <td>27604dd5e034cc07ce60d201c3c22377415de352</td>\n",
       "      <td>SONGEAP12AB01891CD</td>\n",
       "      <td>55</td>\n",
       "      <td>0.005689</td>\n",
       "    </tr>\n",
       "    <tr>\n",
       "      <th>48371424</th>\n",
       "      <td>27604dd5e034cc07ce60d201c3c22377415de352</td>\n",
       "      <td>SOVUBEI12A8C13C384</td>\n",
       "      <td>193</td>\n",
       "      <td>0.019965</td>\n",
       "    </tr>\n",
       "  </tbody>\n",
       "</table>\n",
       "<p>101854 rows × 4 columns</p>\n",
       "</div>"
      ],
      "text/plain": [
       "                                              User              SongID  Count  \\\n",
       "2209      3f152d355d53865a2ca27ac5ceeffb7ebaea0a26  SOYZLWW12AB0186148     55   \n",
       "2213      3f152d355d53865a2ca27ac5ceeffb7ebaea0a26  SOZFYTZ12AB018565D     52   \n",
       "2632      43683da3c6c5a93c7938ff550faf0d039a9a639a  SOUEAYG12A6D4FE4AF    126   \n",
       "2908      99b5f915dd56a0150eb91605e1f6109e1e80c9de  SOBONKR12A58A7A7E0     58   \n",
       "3186      edc8b7b1fd592a3b69c3d823a742e1a064abec95  SOURSIU12A8C140B9A     77   \n",
       "...                                            ...                 ...    ...   \n",
       "48369829  0f4e408968413371e7d487bc78e92259e403349f  SOJTWGB12A58A7ADFB     92   \n",
       "48371405  27604dd5e034cc07ce60d201c3c22377415de352  SODAJWB12A8C13BE3E     58   \n",
       "48371413  27604dd5e034cc07ce60d201c3c22377415de352  SOMMIXC12A6D4F9EF0    261   \n",
       "48371414  27604dd5e034cc07ce60d201c3c22377415de352  SONGEAP12AB01891CD     55   \n",
       "48371424  27604dd5e034cc07ce60d201c3c22377415de352  SOVUBEI12A8C13C384    193   \n",
       "\n",
       "              Frac  \n",
       "2209      0.005689  \n",
       "2213      0.005379  \n",
       "2632      0.013034  \n",
       "2908      0.006000  \n",
       "3186      0.007965  \n",
       "...            ...  \n",
       "48369829  0.009517  \n",
       "48371405  0.006000  \n",
       "48371413  0.026999  \n",
       "48371414  0.005689  \n",
       "48371424  0.019965  \n",
       "\n",
       "[101854 rows x 4 columns]"
      ]
     },
     "execution_count": 334,
     "metadata": {},
     "output_type": "execute_result"
    }
   ],
   "source": [
    "user_dup[user_dup['Count'] > 50]"
   ]
  },
  {
   "cell_type": "code",
   "execution_count": 340,
   "id": "57329ae1",
   "metadata": {},
   "outputs": [],
   "source": [
    "def Group(x):\n",
    "    \n",
    "    if x<2:\n",
    "        return 0\n",
    "    elif x<10:\n",
    "        return 1\n",
    "    elif x<20:\n",
    "        return 2\n",
    "    elif x<30:\n",
    "        return 3\n",
    "    elif x<40:\n",
    "        return 4\n",
    "    elif x<50:\n",
    "        return 5\n",
    "    elif x<60:\n",
    "        return 6\n",
    "    elif x<70:\n",
    "        return 7\n",
    "    elif x<80:\n",
    "        return 8\n",
    "    elif x<90:\n",
    "        return 9\n",
    "    else:\n",
    "        return 10"
   ]
  },
  {
   "cell_type": "code",
   "execution_count": 341,
   "id": "4ba701ab",
   "metadata": {},
   "outputs": [],
   "source": [
    "user_dup['Cat'] = user_dup['Count'].map(Group)"
   ]
  },
  {
   "cell_type": "code",
   "execution_count": 342,
   "id": "4aa826ed",
   "metadata": {},
   "outputs": [
    {
     "data": {
      "text/plain": [
       "0     28755966\n",
       "1     17140061\n",
       "2      1741665\n",
       "3       407091\n",
       "4       151384\n",
       "5        70377\n",
       "6        37635\n",
       "10       25328\n",
       "7        21672\n",
       "8        13503\n",
       "9         8904\n",
       "Name: Cat, dtype: int64"
      ]
     },
     "execution_count": 342,
     "metadata": {},
     "output_type": "execute_result"
    }
   ],
   "source": [
    "user_dup['Cat'].value_counts()"
   ]
  },
  {
   "cell_type": "code",
   "execution_count": 348,
   "id": "c8e16767",
   "metadata": {},
   "outputs": [
    {
     "data": {
      "text/plain": [
       "<AxesSubplot:>"
      ]
     },
     "execution_count": 348,
     "metadata": {},
     "output_type": "execute_result"
    },
    {
     "data": {
      "image/png": "[encoded data removed]",
      "text/plain": [
       "<Figure size 432x288 with 1 Axes>"
      ]
     },
     "metadata": {
      "needs_background": "light"
     },
     "output_type": "display_data"
    }
   ],
   "source": [
    "user_dup[user_dup['Cat'] > 0]['Cat'].hist(bins=5)"
   ]
  },
  {
   "cell_type": "markdown",
   "id": "96081cb9",
   "metadata": {},
   "source": [
    "## Evaluation 2:\n",
    "\n",
    "* Select Random popular songs.\n",
    "* For a song,\n",
    "    * Select k users who listen to this song frequently.\n",
    "    * Recommend songs.\n",
    "    * Find top 5 similar users for k users. \n",
    "    * Check if they had listened to this song.\n",
    "  "
   ]
  },
  {
   "cell_type": "code",
   "execution_count": null,
   "id": "efbd822e",
   "metadata": {},
   "outputs": [],
   "source": [
    "from pandas.api.types import CategoricalDtype"
   ]
  },
  {
   "cell_type": "code",
   "execution_count": null,
   "id": "ab11f476",
   "metadata": {},
   "outputs": [],
   "source": [
    "user_dup = pd.read_csv(\"train_triplets.txt\",sep=\"\\t\",names=['User','SongID','Count'])\n",
    "user_user = np.load(\"user_user_similar.pkl\", allow_pickle=True)"
   ]
  },
  {
   "cell_type": "code",
   "execution_count": null,
   "id": "f1e246e0",
   "metadata": {},
   "outputs": [],
   "source": [
    "users = np.array(list(np.sort(user_dup['User'].unique())))\n",
    "rows = user_dup['User'].astype(CategoricalDtype(categories=users)).cat.codes"
   ]
  },
  {
   "cell_type": "code",
   "execution_count": 437,
   "id": "19a4c51f",
   "metadata": {},
   "outputs": [],
   "source": [
    "from tqdm import tqdm\n",
    "\n",
    "def ind_to_user(x):\n",
    "    return users[x]\n",
    "\n",
    "def Evaluate2(songs_k = 50, user_k=10):\n",
    "    \n",
    "    popular_songs = user.groupby('SongID').agg({'SongID':'size'}).rename(columns={'SongID':'Users'})\n",
    "    popular_songs = popular_songs.reset_index()\n",
    "    popular_songs = popular_songs.sample(10000)\n",
    "    popular_songs = popular_songs.sort_values(by=['Users'], ascending=False)\n",
    "    popular_songs_list = popular_songs['SongID'].head(songs_k).to_list()\n",
    "    \n",
    "    not_in_model = 0\n",
    "    users_who_listened = []\n",
    "    fraction = []\n",
    "    unknown_users = 0\n",
    "\n",
    "    \n",
    "    overall_acc = []\n",
    "    \n",
    "    for s in tqdm(popular_songs_list):\n",
    "        print(\"Song: \", s)\n",
    "        \n",
    "        pred = model.getSimilarSongID(song=s, typ='SongID', k=10)\n",
    "        #print(s, pred)\n",
    "\n",
    "        if pred[0] == -1:\n",
    "            not_in_model +=1\n",
    "            continue\n",
    "          \n",
    "        \n",
    "        for ind in range(len(pred)):\n",
    "            if s == pred[ind]:\n",
    "                #print(pred, ind)\n",
    "                p = np.delete(pred, ind)\n",
    "                #print(p)\n",
    "          \n",
    "        user_list = user[user['SongID'] == s].sort_values(by=['Count'],ascending=False)\n",
    "        user_list = user_list.head(user_k)\n",
    "        user_list = user_list['User'].values\n",
    "        \n",
    "        song_accuracy = []\n",
    "        i = 0\n",
    "        print(\"Total Users: \", len(user_list))\n",
    "        for u in user_list:\n",
    "            print(\"User:\",i)\n",
    "            i+=1\n",
    "            try:\n",
    "                ind = np.where(users == u)[0][0]\n",
    "            except:\n",
    "                unknown_users +=1\n",
    "                continue\n",
    "            try:\n",
    "                sim_users = user_user[ind]\n",
    "                sim_users = list(map(ind_to_user,sim_users))\n",
    "            except:\n",
    "                unknown_users +=1\n",
    "                continue\n",
    "            \n",
    "            accuracy = 0\n",
    "            \n",
    "            print(\"Checking Similar Users..\")\n",
    "            \n",
    "            for sim_u in sim_users:\n",
    "                temp_songs = user[user['User'] == sim_u]['SongID'].unique()\n",
    "                acc = 0\n",
    "                for s_id in p:\n",
    "                    if s_id in temp_songs:\n",
    "                        print(\"MATCH\")\n",
    "                        acc+=1\n",
    "                        break\n",
    "                    if acc==1:\n",
    "                        break\n",
    "                        \n",
    "                accuracy += acc\n",
    "                    \n",
    "            \n",
    "            song_accuracy.append(accuracy)\n",
    "            \n",
    "        if len(song_accuracy) > 0:    \n",
    "            perc = np.mean(song_accuracy)\n",
    "            overall_acc.append(perc)\n",
    "\n",
    "        \n",
    "    \n",
    "    return overall_acc, unknown_users, not_in_model\n",
    "        "
   ]
  },
  {
   "cell_type": "code",
   "execution_count": 439,
   "id": "d6983c71",
   "metadata": {},
   "outputs": [
    {
     "name": "stderr",
     "output_type": "stream",
     "text": [
      "\r",
      "  0%|          | 0/50 [00:00<?, ?it/s]"
     ]
    },
    {
     "name": "stdout",
     "output_type": "stream",
     "text": [
      "Song:  SOUSMXX12AB0185C24\n",
      "Song:  SOPUCYA12A8C13A694\n",
      "Total Users:  10\n",
      "User: 0\n",
      "User: 1\n",
      "Checking Similar Users..\n",
      "User: 2\n",
      "User: 3\n",
      "User: 4\n",
      "User: 5\n",
      "User: 6\n",
      "Checking Similar Users..\n"
     ]
    },
    {
     "name": "stderr",
     "output_type": "stream",
     "text": [
      "\r",
      "  4%|▍         | 2/50 [00:12<04:48,  6.00s/it]"
     ]
    },
    {
     "name": "stdout",
     "output_type": "stream",
     "text": [
      "User: 7\n",
      "User: 8\n",
      "User: 9\n",
      "Song:  SOEPZQS12A8C1436C7\n",
      "Song:  SOYMIMI12AB0181E5C\n",
      "Total Users:  10\n",
      "User: 0\n",
      "Checking Similar Users..\n",
      "User: 1\n",
      "User: 2\n",
      "User: 3\n",
      "User: 4\n",
      "User: 5\n",
      "Checking Similar Users..\n",
      "User: 6\n",
      "User: 7\n",
      "Checking Similar Users..\n",
      "User: 8\n",
      "Checking Similar Users..\n"
     ]
    },
    {
     "name": "stderr",
     "output_type": "stream",
     "text": [
      "\r",
      "  8%|▊         | 4/50 [00:29<05:14,  6.83s/it]"
     ]
    },
    {
     "name": "stdout",
     "output_type": "stream",
     "text": [
      "User: 9\n",
      "Song:  SOLCKAS12A8C14242A\n",
      "Song:  SOVRTPN12AB0184F9E\n",
      "Total Users:  10\n",
      "User: 0\n",
      "User: 1\n",
      "User: 2\n",
      "User: 3\n",
      "User: 4\n",
      "User: 5\n",
      "User: 6\n",
      "User: 7\n",
      "Checking Similar Users..\n",
      "User: 8\n",
      "Checking Similar Users..\n"
     ]
    },
    {
     "name": "stderr",
     "output_type": "stream",
     "text": [
      "\r",
      " 12%|█▏        | 6/50 [00:39<04:38,  6.32s/it]"
     ]
    },
    {
     "name": "stdout",
     "output_type": "stream",
     "text": [
      "User: 9\n",
      "Song:  SOYGHOJ12A6701FFBA\n",
      "Song:  SOLWRZI12A6D4FC4F0\n",
      "Total Users:  10\n",
      "User: 0\n",
      "User: 1\n",
      "Checking Similar Users..\n",
      "User: 2\n",
      "User: 3\n",
      "User: 4\n",
      "User: 5\n",
      "Checking Similar Users..\n",
      "User: 6\n",
      "Checking Similar Users..\n",
      "User: 7\n",
      "Checking Similar Users..\n",
      "User: 8\n",
      "Checking Similar Users..\n"
     ]
    },
    {
     "name": "stderr",
     "output_type": "stream",
     "text": [
      " 18%|█▊        | 9/50 [01:04<03:56,  5.76s/it]"
     ]
    },
    {
     "name": "stdout",
     "output_type": "stream",
     "text": [
      "User: 9\n",
      "Song:  SOIEBXT12A8C1341E1\n",
      "Song:  SOGFFET12A58A7ECA9\n",
      "Total Users:  10\n",
      "User: 0\n",
      "Checking Similar Users..\n",
      "User: 1\n",
      "Checking Similar Users..\n",
      "User: 2\n",
      "User: 3\n",
      "Checking Similar Users..\n",
      "User: 4\n",
      "User: 5\n",
      "User: 6\n",
      "Checking Similar Users..\n"
     ]
    },
    {
     "name": "stderr",
     "output_type": "stream",
     "text": [
      "\r",
      " 20%|██        | 10/50 [01:35<08:50, 13.26s/it]"
     ]
    },
    {
     "name": "stdout",
     "output_type": "stream",
     "text": [
      "User: 7\n",
      "User: 8\n",
      "User: 9\n",
      "Song:  SOHNVHC12A6D4F95AB\n",
      "Total Users:  10\n",
      "User: 0\n",
      "User: 1\n",
      "User: 2\n",
      "User: 3\n",
      "Checking Similar Users..\n",
      "User: 4\n",
      "User: 5\n",
      "Checking Similar Users..\n",
      "User: 6\n",
      "Checking Similar Users..\n",
      "User: 7\n",
      "User: 8\n",
      "User: 9\n",
      "Checking Similar Users..\n"
     ]
    },
    {
     "name": "stderr",
     "output_type": "stream",
     "text": [
      "\r",
      " 22%|██▏       | 11/50 [01:55<10:03, 15.46s/it]"
     ]
    },
    {
     "name": "stdout",
     "output_type": "stream",
     "text": [
      "Song:  SOETKSY12A8C13C666\n",
      "Song:  SONTQUO12A6D4F7D8B\n",
      "Song:  SOZHUUI12A6701D7B6\n",
      "Song:  SOVOOSP12A6310F1AC\n",
      "Total Users:  10\n",
      "User: 0\n",
      "Checking Similar Users..\n",
      "User: 1\n",
      "User: 2\n",
      "User: 3\n",
      "Checking Similar Users..\n",
      "User: 4\n",
      "Checking Similar Users..\n",
      "User: 5\n",
      "Checking Similar Users..\n",
      "User: 6\n",
      "Checking Similar Users..\n"
     ]
    },
    {
     "name": "stderr",
     "output_type": "stream",
     "text": [
      "\r",
      " 30%|███       | 15/50 [02:23<07:31, 12.90s/it]"
     ]
    },
    {
     "name": "stdout",
     "output_type": "stream",
     "text": [
      "User: 7\n",
      "User: 8\n",
      "User: 9\n",
      "Song:  SOSQIHH12A8C13370B\n"
     ]
    },
    {
     "name": "stderr",
     "output_type": "stream",
     "text": [
      "\r",
      " 32%|███▏      | 16/50 [02:23<05:09,  9.09s/it]"
     ]
    },
    {
     "name": "stdout",
     "output_type": "stream",
     "text": [
      "Song:  SOLLDVS12AB0183835\n",
      "Total Users:  10\n",
      "User: 0\n",
      "User: 1\n",
      "User: 2\n",
      "User: 3\n",
      "Checking Similar Users..\n",
      "User: 4\n",
      "Checking Similar Users..\n",
      "User: 5\n",
      "Checking Similar Users..\n",
      "User: 6\n",
      "User: 7\n",
      "Checking Similar Users..\n"
     ]
    },
    {
     "name": "stderr",
     "output_type": "stream",
     "text": [
      "\r",
      " 34%|███▍      | 17/50 [02:43<06:45, 12.30s/it]"
     ]
    },
    {
     "name": "stdout",
     "output_type": "stream",
     "text": [
      "User: 8\n",
      "User: 9\n",
      "Song:  SOXGQEM12AB0181D35\n",
      "Total Users:  10\n",
      "User: 0\n",
      "User: 1\n",
      "User: 2\n",
      "Checking Similar Users..\n",
      "User: 3\n",
      "User: 4\n",
      "User: 5\n",
      "User: 6\n",
      "Checking Similar Users..\n",
      "User: 7\n",
      "User: 8\n",
      "Checking Similar Users..\n"
     ]
    },
    {
     "name": "stderr",
     "output_type": "stream",
     "text": [
      "\r",
      " 36%|███▌      | 18/50 [02:56<06:45, 12.67s/it]"
     ]
    },
    {
     "name": "stdout",
     "output_type": "stream",
     "text": [
      "User: 9\n",
      "Song:  SOOXRJG12A8C13773E\n",
      "Total Users:  10\n",
      "User: 0\n",
      "User: 1\n",
      "User: 2\n",
      "User: 3\n",
      "Checking Similar Users..\n",
      "User: 4\n",
      "User: 5\n",
      "User: 6\n",
      "User: 7\n",
      "User: 8\n",
      "Checking Similar Users..\n"
     ]
    },
    {
     "name": "stderr",
     "output_type": "stream",
     "text": [
      "\r",
      " 38%|███▊      | 19/50 [03:06<06:04, 11.75s/it]"
     ]
    },
    {
     "name": "stdout",
     "output_type": "stream",
     "text": [
      "User: 9\n",
      "Song:  SOJLXET12AB0188632\n",
      "Song:  SOQFEDG12AB018DD24\n",
      "Song:  SOHZMFE12A6D4FB412\n",
      "Total Users:  10\n",
      "User: 0\n",
      "Checking Similar Users..\n",
      "User: 1\n",
      "User: 2\n",
      "Checking Similar Users..\n",
      "User: 3\n",
      "Checking Similar Users..\n",
      "User: 4\n",
      "User: 5\n",
      "Checking Similar Users..\n",
      "User: 6\n",
      "Checking Similar Users..\n"
     ]
    },
    {
     "name": "stderr",
     "output_type": "stream",
     "text": [
      "\r",
      " 44%|████▍     | 22/50 [03:28<04:51, 10.42s/it]"
     ]
    },
    {
     "name": "stdout",
     "output_type": "stream",
     "text": [
      "User: 7\n",
      "User: 8\n",
      "User: 9\n",
      "Song:  SOUKTVI12A8C13BF74\n",
      "Total Users:  10\n",
      "User: 0\n",
      "Checking Similar Users..\n",
      "User: 1\n",
      "User: 2\n",
      "Checking Similar Users..\n",
      "User: 3\n",
      "User: 4\n",
      "User: 5\n",
      "Checking Similar Users..\n",
      "MATCH\n",
      "User: 6\n",
      "Checking Similar Users..\n",
      "User: 7\n",
      "User: 8\n",
      "User: 9\n",
      "Checking Similar Users..\n",
      "MATCH\n"
     ]
    },
    {
     "name": "stderr",
     "output_type": "stream",
     "text": [
      "\r",
      " 46%|████▌     | 23/50 [03:49<06:11, 13.75s/it]"
     ]
    },
    {
     "name": "stdout",
     "output_type": "stream",
     "text": [
      "Song:  SOQKNEO12A58A78EE7\n",
      "Song:  SOUQQWB12AB01828AB\n",
      "Total Users:  10\n",
      "User: 0\n",
      "User: 1\n",
      "Checking Similar Users..\n",
      "User: 2\n",
      "User: 3\n",
      "User: 4\n",
      "User: 5\n",
      "Checking Similar Users..\n",
      "User: 6\n",
      "User: 7\n",
      "User: 8\n",
      "Checking Similar Users..\n"
     ]
    },
    {
     "name": "stderr",
     "output_type": "stream",
     "text": [
      "\r",
      " 50%|█████     | 25/50 [04:03<04:51, 11.67s/it]"
     ]
    },
    {
     "name": "stdout",
     "output_type": "stream",
     "text": [
      "User: 9\n",
      "Song:  SOYGQGR12AF72ABAB8\n",
      "Total Users:  10\n",
      "User: 0\n",
      "User: 1\n",
      "User: 2\n",
      "User: 3\n",
      "Checking Similar Users..\n",
      "User: 4\n",
      "Checking Similar Users..\n",
      "User: 5\n",
      "User: 6\n",
      "Checking Similar Users..\n",
      "User: 7\n",
      "User: 8\n",
      "Checking Similar Users..\n"
     ]
    },
    {
     "name": "stderr",
     "output_type": "stream",
     "text": [
      "\r",
      " 52%|█████▏    | 26/50 [04:21<05:26, 13.60s/it]"
     ]
    },
    {
     "name": "stdout",
     "output_type": "stream",
     "text": [
      "User: 9\n",
      "Song:  SOHEGSJ12AB0183790\n",
      "Song:  SOUFWFG12AC9072C7E\n",
      "Total Users:  10\n",
      "User: 0\n",
      "User: 1\n",
      "Checking Similar Users..\n",
      "User: 2\n",
      "User: 3\n",
      "User: 4\n",
      "Checking Similar Users..\n",
      "User: 5\n",
      "User: 6\n",
      "User: 7\n",
      "User: 8\n",
      "Checking Similar Users..\n"
     ]
    },
    {
     "name": "stderr",
     "output_type": "stream",
     "text": [
      "\r",
      " 56%|█████▌    | 28/50 [04:36<04:17, 11.69s/it]"
     ]
    },
    {
     "name": "stdout",
     "output_type": "stream",
     "text": [
      "User: 9\n",
      "Song:  SOMQHZK12A6D4F8074\n",
      "Total Users:  10\n",
      "User: 0\n",
      "User: 1\n",
      "User: 2\n",
      "User: 3\n",
      "Checking Similar Users..\n",
      "User: 4\n",
      "User: 5\n",
      "Checking Similar Users..\n",
      "User: 6\n",
      "User: 7\n",
      "Checking Similar Users..\n",
      "User: 8\n",
      "Checking Similar Users..\n"
     ]
    },
    {
     "name": "stderr",
     "output_type": "stream",
     "text": [
      "\r",
      " 58%|█████▊    | 29/50 [04:56<05:01, 14.36s/it]"
     ]
    },
    {
     "name": "stdout",
     "output_type": "stream",
     "text": [
      "User: 9\n",
      "Song:  SOIRUXQ12A8C133060\n",
      "Song:  SODTJFU12B0B80C9BE\n",
      "Song:  SORNWVM12AF72A14ED\n",
      "Total Users:  10\n",
      "User: 0\n",
      "Checking Similar Users..\n",
      "User: 1\n",
      "User: 2\n",
      "User: 3\n",
      "User: 4\n",
      "Checking Similar Users..\n"
     ]
    },
    {
     "name": "stderr",
     "output_type": "stream",
     "text": [
      "\r",
      " 64%|██████▍   | 32/50 [05:09<03:24, 11.34s/it]"
     ]
    },
    {
     "name": "stdout",
     "output_type": "stream",
     "text": [
      "User: 5\n",
      "User: 6\n",
      "User: 7\n",
      "User: 8\n",
      "User: 9\n",
      "Song:  SOQQAAQ12A67ADE34D\n",
      "Song:  SOQNOAF12A8151AB86\n",
      "Total Users:  10\n",
      "User: 0\n",
      "User: 1\n",
      "User: 2\n",
      "User: 3\n",
      "Checking Similar Users..\n",
      "User: 4\n",
      "Checking Similar Users..\n",
      "User: 5\n",
      "Checking Similar Users..\n"
     ]
    },
    {
     "name": "stderr",
     "output_type": "stream",
     "text": [
      "\r",
      " 68%|██████▊   | 34/50 [05:30<02:56, 11.04s/it]"
     ]
    },
    {
     "name": "stdout",
     "output_type": "stream",
     "text": [
      "User: 6\n",
      "User: 7\n",
      "User: 8\n",
      "User: 9\n",
      "Song:  SOFRZBI12A8C145A85\n",
      "Total Users:  10\n",
      "User: 0\n",
      "Checking Similar Users..\n",
      "User: 1\n",
      "Checking Similar Users..\n",
      "User: 2\n",
      "Checking Similar Users..\n",
      "User: 3\n",
      "Checking Similar Users..\n",
      "User: 4\n",
      "User: 5\n",
      "User: 6\n",
      "Checking Similar Users..\n"
     ]
    },
    {
     "name": "stderr",
     "output_type": "stream",
     "text": [
      "\r",
      " 70%|███████   | 35/50 [05:55<03:48, 15.22s/it]"
     ]
    },
    {
     "name": "stdout",
     "output_type": "stream",
     "text": [
      "User: 7\n",
      "User: 8\n",
      "User: 9\n",
      "Song:  SOBZJVD12A8C13C796\n"
     ]
    },
    {
     "name": "stderr",
     "output_type": "stream",
     "text": [
      "\r",
      " 72%|███████▏  | 36/50 [05:55<02:30, 10.73s/it]"
     ]
    },
    {
     "name": "stdout",
     "output_type": "stream",
     "text": [
      "Song:  SOJYFST12A6D4F9DE8\n",
      "Song:  SONSQGU12AF72A2EDA\n",
      "Total Users:  10\n",
      "User: 0\n",
      "Checking Similar Users..\n",
      "User: 1\n",
      "User: 2\n",
      "Checking Similar Users..\n",
      "User: 3\n",
      "User: 4\n",
      "User: 5\n",
      "User: 6\n",
      "Checking Similar Users..\n",
      "User: 7\n",
      "User: 8\n",
      "Checking Similar Users..\n"
     ]
    },
    {
     "name": "stderr",
     "output_type": "stream",
     "text": [
      "\r",
      " 76%|███████▌  | 38/50 [06:17<02:09, 10.83s/it]"
     ]
    },
    {
     "name": "stdout",
     "output_type": "stream",
     "text": [
      "User: 9\n",
      "Song:  SOMTTXF12A8C1428A9\n",
      "Total Users:  10\n",
      "User: 0\n",
      "User: 1\n",
      "Checking Similar Users..\n",
      "User: 2\n",
      "User: 3\n",
      "User: 4\n",
      "User: 5\n",
      "User: 6\n",
      "User: 7\n",
      "User: 8\n",
      "Checking Similar Users..\n"
     ]
    },
    {
     "name": "stderr",
     "output_type": "stream",
     "text": [
      "\r",
      " 78%|███████▊  | 39/50 [06:32<02:12, 12.04s/it]"
     ]
    },
    {
     "name": "stdout",
     "output_type": "stream",
     "text": [
      "User: 9\n",
      "Song:  SOEOVGV12AF72A1E27\n",
      "Total Users:  10\n",
      "User: 0\n",
      "Checking Similar Users..\n",
      "User: 1\n",
      "Checking Similar Users..\n",
      "User: 2\n",
      "Checking Similar Users..\n",
      "User: 3\n",
      "User: 4\n",
      "User: 5\n",
      "Checking Similar Users..\n",
      "User: 6\n",
      "User: 7\n",
      "User: 8\n",
      "Checking Similar Users..\n"
     ]
    },
    {
     "name": "stderr",
     "output_type": "stream",
     "text": [
      "\r",
      " 80%|████████  | 40/50 [06:56<02:36, 15.64s/it]"
     ]
    },
    {
     "name": "stdout",
     "output_type": "stream",
     "text": [
      "User: 9\n",
      "Song:  SODZJCH12A8C132ADC\n",
      "Song:  SOMAUXP12AB018051D\n",
      "Total Users:  10\n",
      "User: 0\n",
      "User: 1\n",
      "Checking Similar Users..\n",
      "User: 2\n",
      "User: 3\n",
      "User: 4\n",
      "User: 5\n",
      "Checking Similar Users..\n",
      "User: 6\n",
      "User: 7\n",
      "Checking Similar Users..\n",
      "User: 8\n",
      "User: 9\n",
      "Checking Similar Users..\n"
     ]
    },
    {
     "name": "stderr",
     "output_type": "stream",
     "text": [
      "\r",
      " 84%|████████▍ | 42/50 [07:16<01:51, 13.90s/it]"
     ]
    },
    {
     "name": "stdout",
     "output_type": "stream",
     "text": [
      "Song:  SOSFSWB12AB018C99A\n",
      "Total Users:  10\n",
      "User: 0\n",
      "User: 1\n",
      "User: 2\n",
      "User: 3\n",
      "Checking Similar Users..\n",
      "User: 4\n",
      "User: 5\n",
      "User: 6\n",
      "User: 7\n",
      "User: 8\n",
      "Checking Similar Users..\n"
     ]
    },
    {
     "name": "stderr",
     "output_type": "stream",
     "text": [
      " 94%|█████████▍| 47/50 [07:31<00:29,  9.93s/it]"
     ]
    },
    {
     "name": "stdout",
     "output_type": "stream",
     "text": [
      "User: 9\n",
      "Song:  SOFPZIX12A6701CFAD\n",
      "Song:  SOYIOZB12A58A797FC\n",
      "Song:  SOFXXUW12A8C1333ED\n",
      "Song:  SOPMQFR12A6701FC26\n",
      "Song:  SORDMEB12A58A7E67C\n",
      "Song:  SOHSHMS12A8C13BF58\n",
      "Total Users:  10\n",
      "User: 0\n",
      "Checking Similar Users..\n",
      "User: 1\n",
      "User: 2\n",
      "User: 3\n",
      "User: 4\n",
      "User: 5\n",
      "Checking Similar Users..\n",
      "User: 6\n",
      "Checking Similar Users..\n",
      "User: 7\n",
      "User: 8\n",
      "User: 9\n",
      "Checking Similar Users..\n"
     ]
    },
    {
     "name": "stderr",
     "output_type": "stream",
     "text": [
      "100%|██████████| 50/50 [07:51<00:00,  9.42s/it]"
     ]
    },
    {
     "name": "stdout",
     "output_type": "stream",
     "text": [
      "Song:  SOETSTN12A81C219A9\n"
     ]
    },
    {
     "name": "stderr",
     "output_type": "stream",
     "text": [
      "\n"
     ]
    }
   ],
   "source": [
    "acc, ukn_users, ukn_songs = Evaluate2(songs_k = 50, user_k=10)"
   ]
  },
  {
   "cell_type": "code",
   "execution_count": 440,
   "id": "da722ccb",
   "metadata": {},
   "outputs": [
    {
     "name": "stdout",
     "output_type": "stream",
     "text": [
      "Suggested  0.016\n"
     ]
    }
   ],
   "source": [
    "print(\"Suggested \",np.mean(acc))"
   ]
  },
  {
   "cell_type": "code",
   "execution_count": 441,
   "id": "a2a4e52b",
   "metadata": {},
   "outputs": [
    {
     "name": "stdout",
     "output_type": "stream",
     "text": [
      "160 25\n"
     ]
    }
   ],
   "source": [
    "print(ukn_users, ukn_songs)"
   ]
  },
  {
   "cell_type": "code",
   "execution_count": 432,
   "id": "578a317a",
   "metadata": {},
   "outputs": [
    {
     "data": {
      "text/plain": [
       "[0.0,\n",
       " 0.0,\n",
       " 0.0,\n",
       " 0.5,\n",
       " 0.0,\n",
       " 0.0,\n",
       " nan,\n",
       " 0.0,\n",
       " 0.0,\n",
       " 0.0,\n",
       " 0.0,\n",
       " 0.0,\n",
       " 0.0,\n",
       " 0.0,\n",
       " 0.0,\n",
       " 0.0,\n",
       " 0.0,\n",
       " 0.0,\n",
       " 0.0,\n",
       " 0.2,\n",
       " 0.0,\n",
       " 0.0,\n",
       " 0.0,\n",
       " 0.6666666666666666]"
      ]
     },
     "execution_count": 432,
     "metadata": {},
     "output_type": "execute_result"
    }
   ],
   "source": []
  },
  {
   "cell_type": "code",
   "execution_count": 434,
   "id": "caf3c21b",
   "metadata": {},
   "outputs": [
    {
     "data": {
      "text/plain": [
       "0"
      ]
     },
     "execution_count": 434,
     "metadata": {},
     "output_type": "execute_result"
    }
   ],
   "source": [
    "arr = []\n",
    "len(arr)"
   ]
  },
  {
   "cell_type": "code",
   "execution_count": null,
   "id": "f89e4179",
   "metadata": {},
   "outputs": [],
   "source": []
  }
 ],
 "metadata": {
  "kernelspec": {
   "display_name": "Python 3",
   "language": "python",
   "name": "python3"
  },
  "language_info": {
   "codemirror_mode": {
    "name": "ipython",
    "version": 3
   },
   "file_extension": ".py",
   "mimetype": "text/x-python",
   "name": "python",
   "nbconvert_exporter": "python",
   "pygments_lexer": "ipython3",
   "version": "3.8.3"
  }
 },
 "nbformat": 4,
 "nbformat_minor": 5
}
