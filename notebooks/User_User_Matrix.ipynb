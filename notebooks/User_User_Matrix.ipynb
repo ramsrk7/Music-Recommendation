{
  "nbformat": 4,
  "nbformat_minor": 0,
  "metadata": {
    "colab": {
      "provenance": [],
      "machine_shape": "hm"
    },
    "kernelspec": {
      "name": "python3",
      "display_name": "Python 3"
    },
    "language_info": {
      "name": "python"
    },
    "accelerator": "GPU",
    "gpuClass": "premium"
  },
  "cells": [
    {
      "cell_type": "code",
      "source": [
        "import pandas as pd\n",
        "from pandas.api.types import CategoricalDtype\n",
        "import numpy as np\n",
        "from scipy.spatial.distance import pdist, squareform\n",
        "from scipy import sparse\n",
        "from sklearn.metrics.pairwise import cosine_similarity\n",
        "\n",
        "\n",
        "\n",
        "import os\n",
        "import pickle\n",
        "\n",
        "import seaborn as sns\n",
        "import matplotlib.pyplot as plt\n",
        "\n",
        "import sklearn.preprocessing as pp\n",
        "\n",
        "from google.colab import drive\n",
        "drive.mount('/content/drive')"
      ],
      "metadata": {
        "id": "4BcbYh6blJG7",
        "colab": {
          "base_uri": "https://localhost:8080/"
        },
        "outputId": "09a2f713-b184-41e6-9b63-faa58395e025"
      },
      "execution_count": null,
      "outputs": [
        {
          "output_type": "stream",
          "name": "stdout",
          "text": [
            "Drive already mounted at /content/drive; to attempt to forcibly remount, call drive.mount(\"/content/drive\", force_remount=True).\n"
          ]
        }
      ]
    },
    {
      "cell_type": "code",
      "source": [
        "df = pd.read_csv('/content/drive/MyDrive/256 Project/train_triplets.txt', sep='\\t', index_col=None, names = ['User','Song', 'Count'])\n",
        "# df = pd.read_csv('/content/drive/MyDrive/Fall 2022/CMPE 256/Project/train_triplets.txt', sep='\\t', index_col=None, names = ['User','Song', 'Count'])\n",
        "df.head()"
      ],
      "metadata": {
        "colab": {
          "base_uri": "https://localhost:8080/",
          "height": 206
        },
        "id": "GKSMEwoXpyN4",
        "outputId": "c57fc7a5-b7bc-4de4-aeec-45e7d00f34f3"
      },
      "execution_count": null,
      "outputs": [
        {
          "output_type": "execute_result",
          "data": {
            "text/plain": [
              "                                       User                Song  Count\n",
              "0  b80344d063b5ccb3212f76538f3d9e43d87dca9e  SOAKIMP12A8C130995      1\n",
              "1  b80344d063b5ccb3212f76538f3d9e43d87dca9e  SOAPDEY12A81C210A9      1\n",
              "2  b80344d063b5ccb3212f76538f3d9e43d87dca9e  SOBBMDR12A8C13253B      2\n",
              "3  b80344d063b5ccb3212f76538f3d9e43d87dca9e  SOBFNSP12AF72A0E22      1\n",
              "4  b80344d063b5ccb3212f76538f3d9e43d87dca9e  SOBFOVM12A58A7D494      1"
            ],
            "text/html": [
              "\n",
              "  <div id=\"df-c5a66e8f-5167-4b9e-887b-49784cbc435d\">\n",
              "    <div class=\"colab-df-container\">\n",
              "      <div>\n",
              "<style scoped>\n",
              "    .dataframe tbody tr th:only-of-type {\n",
              "        vertical-align: middle;\n",
              "    }\n",
              "\n",
              "    .dataframe tbody tr th {\n",
              "        vertical-align: top;\n",
              "    }\n",
              "\n",
              "    .dataframe thead th {\n",
              "        text-align: right;\n",
              "    }\n",
              "</style>\n",
              "<table border=\"1\" class=\"dataframe\">\n",
              "  <thead>\n",
              "    <tr style=\"text-align: right;\">\n",
              "      <th></th>\n",
              "      <th>User</th>\n",
              "      <th>Song</th>\n",
              "      <th>Count</th>\n",
              "    </tr>\n",
              "  </thead>\n",
              "  <tbody>\n",
              "    <tr>\n",
              "      <th>0</th>\n",
              "      <td>b80344d063b5ccb3212f76538f3d9e43d87dca9e</td>\n",
              "      <td>SOAKIMP12A8C130995</td>\n",
              "      <td>1</td>\n",
              "    </tr>\n",
              "    <tr>\n",
              "      <th>1</th>\n",
              "      <td>b80344d063b5ccb3212f76538f3d9e43d87dca9e</td>\n",
              "      <td>SOAPDEY12A81C210A9</td>\n",
              "      <td>1</td>\n",
              "    </tr>\n",
              "    <tr>\n",
              "      <th>2</th>\n",
              "      <td>b80344d063b5ccb3212f76538f3d9e43d87dca9e</td>\n",
              "      <td>SOBBMDR12A8C13253B</td>\n",
              "      <td>2</td>\n",
              "    </tr>\n",
              "    <tr>\n",
              "      <th>3</th>\n",
              "      <td>b80344d063b5ccb3212f76538f3d9e43d87dca9e</td>\n",
              "      <td>SOBFNSP12AF72A0E22</td>\n",
              "      <td>1</td>\n",
              "    </tr>\n",
              "    <tr>\n",
              "      <th>4</th>\n",
              "      <td>b80344d063b5ccb3212f76538f3d9e43d87dca9e</td>\n",
              "      <td>SOBFOVM12A58A7D494</td>\n",
              "      <td>1</td>\n",
              "    </tr>\n",
              "  </tbody>\n",
              "</table>\n",
              "</div>\n",
              "      <button class=\"colab-df-convert\" onclick=\"convertToInteractive('df-c5a66e8f-5167-4b9e-887b-49784cbc435d')\"\n",
              "              title=\"Convert this dataframe to an interactive table.\"\n",
              "              style=\"display:none;\">\n",
              "        \n",
              "  <svg xmlns=\"http://www.w3.org/2000/svg\" height=\"24px\"viewBox=\"0 0 24 24\"\n",
              "       width=\"24px\">\n",
              "    <path d=\"M0 0h24v24H0V0z\" fill=\"none\"/>\n",
              "    <path d=\"M18.56 5.44l.94 2.06.94-2.06 2.06-.94-2.06-.94-.94-2.06-.94 2.06-2.06.94zm-11 1L8.5 8.5l.94-2.06 2.06-.94-2.06-.94L8.5 2.5l-.94 2.06-2.06.94zm10 10l.94 2.06.94-2.06 2.06-.94-2.06-.94-.94-2.06-.94 2.06-2.06.94z\"/><path d=\"M17.41 7.96l-1.37-1.37c-.4-.4-.92-.59-1.43-.59-.52 0-1.04.2-1.43.59L10.3 9.45l-7.72 7.72c-.78.78-.78 2.05 0 2.83L4 21.41c.39.39.9.59 1.41.59.51 0 1.02-.2 1.41-.59l7.78-7.78 2.81-2.81c.8-.78.8-2.07 0-2.86zM5.41 20L4 18.59l7.72-7.72 1.47 1.35L5.41 20z\"/>\n",
              "  </svg>\n",
              "      </button>\n",
              "      \n",
              "  <style>\n",
              "    .colab-df-container {\n",
              "      display:flex;\n",
              "      flex-wrap:wrap;\n",
              "      gap: 12px;\n",
              "    }\n",
              "\n",
              "    .colab-df-convert {\n",
              "      background-color: #E8F0FE;\n",
              "      border: none;\n",
              "      border-radius: 50%;\n",
              "      cursor: pointer;\n",
              "      display: none;\n",
              "      fill: #1967D2;\n",
              "      height: 32px;\n",
              "      padding: 0 0 0 0;\n",
              "      width: 32px;\n",
              "    }\n",
              "\n",
              "    .colab-df-convert:hover {\n",
              "      background-color: #E2EBFA;\n",
              "      box-shadow: 0px 1px 2px rgba(60, 64, 67, 0.3), 0px 1px 3px 1px rgba(60, 64, 67, 0.15);\n",
              "      fill: #174EA6;\n",
              "    }\n",
              "\n",
              "    [theme=dark] .colab-df-convert {\n",
              "      background-color: #3B4455;\n",
              "      fill: #D2E3FC;\n",
              "    }\n",
              "\n",
              "    [theme=dark] .colab-df-convert:hover {\n",
              "      background-color: #434B5C;\n",
              "      box-shadow: 0px 1px 3px 1px rgba(0, 0, 0, 0.15);\n",
              "      filter: drop-shadow(0px 1px 2px rgba(0, 0, 0, 0.3));\n",
              "      fill: #FFFFFF;\n",
              "    }\n",
              "  </style>\n",
              "\n",
              "      <script>\n",
              "        const buttonEl =\n",
              "          document.querySelector('#df-c5a66e8f-5167-4b9e-887b-49784cbc435d button.colab-df-convert');\n",
              "        buttonEl.style.display =\n",
              "          google.colab.kernel.accessAllowed ? 'block' : 'none';\n",
              "\n",
              "        async function convertToInteractive(key) {\n",
              "          const element = document.querySelector('#df-c5a66e8f-5167-4b9e-887b-49784cbc435d');\n",
              "          const dataTable =\n",
              "            await google.colab.kernel.invokeFunction('convertToInteractive',\n",
              "                                                     [key], {});\n",
              "          if (!dataTable) return;\n",
              "\n",
              "          const docLinkHtml = 'Like what you see? Visit the ' +\n",
              "            '<a target=\"_blank\" href=https://colab.research.google.com/notebooks/data_table.ipynb>data table notebook</a>'\n",
              "            + ' to learn more about interactive tables.';\n",
              "          element.innerHTML = '';\n",
              "          dataTable['output_type'] = 'display_data';\n",
              "          await google.colab.output.renderOutput(dataTable, element);\n",
              "          const docLink = document.createElement('div');\n",
              "          docLink.innerHTML = docLinkHtml;\n",
              "          element.appendChild(docLink);\n",
              "        }\n",
              "      </script>\n",
              "    </div>\n",
              "  </div>\n",
              "  "
            ]
          },
          "metadata": {},
          "execution_count": 2
        }
      ]
    },
    {
      "cell_type": "code",
      "source": [
        "# https://gist.github.com/TomLin/918f246e14bc4a34c45461d862a42141\n",
        "def df2interact_mat(df, user_col, item_col, interact_col):\n",
        "\tusers = np.array(list(np.sort(\n",
        "\t\tdf[user_col].unique())))  # Get our unique users\n",
        "\n",
        "\titems = np.array(list(\n",
        "\t\tdf[item_col].unique()))  # Get our unique items that were interacted with\n",
        "\n",
        "\tinteractions = list(\n",
        "\t\tdf[interact_col])  # All of our interactions\n",
        "\n",
        "\t# Re-code user and item index for sparse matrix.\n",
        "\t# Index starting from 0\n",
        "\trows = df[user_col].astype(CategoricalDtype(\n",
        "\t\tcategories=users)).cat.codes\n",
        "\n",
        "\tcols = df[item_col].astype(CategoricalDtype(\n",
        "\t\tcategories=items)).cat.codes\n",
        "\n",
        "\t# Construct sparse matrix.\n",
        "\t# Get the associated column indices\n",
        "\tinteraction_sparse = sparse.csc_matrix((interactions, (rows, cols)), shape=(len(users), len(items)))\n",
        "\n",
        "\treturn interaction_sparse, users, items"
      ],
      "metadata": {
        "id": "vs1fjOdrOSHJ"
      },
      "execution_count": null,
      "outputs": []
    },
    {
      "cell_type": "code",
      "source": [
        "mat, users, items = df2interact_mat(df, 'User','Song','Count')"
      ],
      "metadata": {
        "id": "WdBehkZrOzrj"
      },
      "execution_count": null,
      "outputs": []
    },
    {
      "cell_type": "code",
      "source": [
        "# calculate similarity between each row (user x songs)\n",
        "def cosine_similarities(mat):\n",
        "    col_normed_mat = pp.normalize(mat.tocsc(), axis=0)\n",
        "    return col_normed_mat.T * col_normed_mat"
      ],
      "metadata": {
        "id": "dcQF9MGBPRRy"
      },
      "execution_count": null,
      "outputs": []
    },
    {
      "cell_type": "code",
      "source": [
        "similarities = cosine_similarities(mat)"
      ],
      "metadata": {
        "id": "OJjTxy4EbeIj"
      },
      "execution_count": null,
      "outputs": []
    },
    {
      "cell_type": "code",
      "source": [
        "def top_n_idx(matrix, n):\n",
        "  # Return index of top n values in each row of a sparse matrix\n",
        "  top_n_idx = []\n",
        "  for l, r in zip(matrix.indptr[:-1], matrix.indptr[1:]):\n",
        "    n_row = min(n, r - l)\n",
        "    top_n_idx.append(matrix.indices[l + np.argpartition(matrix.data[l:r], -n_row)[-n_row:]])\n",
        "  return top_n_idx\n",
        "\n",
        "user_user_similar = top_n_idx(similarities, 5)"
      ],
      "metadata": {
        "id": "hsgsw7xXf_oS"
      },
      "execution_count": null,
      "outputs": []
    },
    {
      "cell_type": "code",
      "source": [
        "# Saving top 5 user similarity file\n",
        "with open('/content/drive/MyDrive/256 Project/user_user_similar.pkl', 'wb') as f:\n",
        "  pickle.dump(user_user_similar, f)"
      ],
      "metadata": {
        "id": "v-CD5M3GlKVm"
      },
      "execution_count": null,
      "outputs": []
    },
    {
      "cell_type": "code",
      "source": [
        "# Saving similarity matrix\n",
        "with open('/content/drive/MyDrive/256 Project/similarity_matrix.pkl', 'wb') as f:\n",
        "  pickle.dump(similarities, f, protocol=4)"
      ],
      "metadata": {
        "id": "wM67bM0ynU4J"
      },
      "execution_count": null,
      "outputs": []
    },
    {
      "cell_type": "code",
      "source": [
        "# Guide to loading file\n",
        "with open('/content/drive/MyDrive/256 Project/user_user_similar.pkl', 'rb') as f:\n",
        "  temp = pickle.load(f)"
      ],
      "metadata": {
        "id": "ZwEsku1Tmae8"
      },
      "execution_count": null,
      "outputs": []
    },
    {
      "cell_type": "code",
      "source": [
        "with open('/content/drive/MyDrive/256 Project/similarity_matrix.pkl', 'rb') as f:\n",
        "  pickle.dump(similarities, f)"
      ],
      "metadata": {
        "id": "iTYrjwtAmzZG"
      },
      "execution_count": null,
      "outputs": []
    }
  ]
}